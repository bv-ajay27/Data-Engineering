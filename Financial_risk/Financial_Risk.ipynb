{
 "cells": [
  {
   "cell_type": "code",
   "execution_count": 1,
   "id": "7ba6610d-4fa3-49d5-8a00-8c07e7dc389e",
   "metadata": {},
   "outputs": [],
   "source": [
    "#Jai Sri Ram"
   ]
  },
  {
   "cell_type": "code",
   "execution_count": 2,
   "id": "15aee7ef-81bb-4265-9854-c066659a517c",
   "metadata": {},
   "outputs": [],
   "source": [
    "from pyspark.sql import SparkSession\n",
    "from pyspark.sql import * \n",
    "\n",
    "spark = SparkSession.builder \\\n",
    "    .appName(\"Financial_Risk\") \\\n",
    "    .getOrCreate()\n"
   ]
  },
  {
   "cell_type": "raw",
   "id": "58069df1-ed9e-49ac-9cb4-94e64dc35714",
   "metadata": {},
   "source": [
    "spark = SparkSession.builder.appName(\"Financial_Risk\").getOrCreate()"
   ]
  },
  {
   "cell_type": "code",
   "execution_count": 3,
   "id": "253c3416-10ef-4794-b8d5-f383014dfd38",
   "metadata": {},
   "outputs": [
    {
     "name": "stdout",
     "output_type": "stream",
     "text": [
      "Spark is ready: 3.5.0\n"
     ]
    }
   ],
   "source": [
    "print(\"Spark is ready:\", spark.version)"
   ]
  },
  {
   "cell_type": "code",
   "execution_count": 4,
   "id": "00b840a8-2266-4432-96ea-df105b8e7435",
   "metadata": {},
   "outputs": [
    {
     "data": {
      "text/plain": [
       "'3.5.0'"
      ]
     },
     "execution_count": 4,
     "metadata": {},
     "output_type": "execute_result"
    }
   ],
   "source": [
    "spark.version"
   ]
  },
  {
   "cell_type": "code",
   "execution_count": 5,
   "id": "d1a8586c-3cb9-436c-9349-2fb493fd92cf",
   "metadata": {},
   "outputs": [
    {
     "data": {
      "text/plain": [
       "{'ResponseMetadata': {'RequestId': 'ACK1K6500PGEM92B',\n",
       "  'HostId': 'yjdi/D0ZgTt8XSELRmepVtwQxdB5gEJaw44vPwd+9GaID+KEy6Fc033WpDAqIMR+HPGHh+5IcXg=',\n",
       "  'HTTPStatusCode': 200,\n",
       "  'HTTPHeaders': {'x-amz-id-2': 'yjdi/D0ZgTt8XSELRmepVtwQxdB5gEJaw44vPwd+9GaID+KEy6Fc033WpDAqIMR+HPGHh+5IcXg=',\n",
       "   'x-amz-request-id': 'ACK1K6500PGEM92B',\n",
       "   'date': 'Sun, 03 Aug 2025 07:46:30 GMT',\n",
       "   'content-type': 'application/xml',\n",
       "   'transfer-encoding': 'chunked',\n",
       "   'server': 'AmazonS3'},\n",
       "  'RetryAttempts': 0},\n",
       " 'Buckets': [{'Name': 'aws-logs-315689562130-us-east-1',\n",
       "   'CreationDate': datetime.datetime(2024, 12, 29, 11, 7, 52, tzinfo=tzlocal())},\n",
       "  {'Name': 'ec2-emr-prod-data',\n",
       "   'CreationDate': datetime.datetime(2024, 12, 29, 10, 19, 48, tzinfo=tzlocal())},\n",
       "  {'Name': 'ec2-emr-raw-data',\n",
       "   'CreationDate': datetime.datetime(2024, 12, 29, 10, 19, 14, tzinfo=tzlocal())},\n",
       "  {'Name': 'emr-ec2-processing-script',\n",
       "   'CreationDate': datetime.datetime(2024, 12, 29, 10, 34, 23, tzinfo=tzlocal())},\n",
       "  {'Name': 'my-allproject-logs',\n",
       "   'CreationDate': datetime.datetime(2025, 3, 16, 12, 18, 27, tzinfo=tzlocal())},\n",
       "  {'Name': 'spark-project-prod-bucket',\n",
       "   'CreationDate': datetime.datetime(2025, 1, 25, 5, 21, 1, tzinfo=tzlocal())},\n",
       "  {'Name': 'spark-project-raw-bucket',\n",
       "   'CreationDate': datetime.datetime(2025, 1, 25, 5, 20, 31, tzinfo=tzlocal())},\n",
       "  {'Name': 'testing-purpose-for-projects',\n",
       "   'CreationDate': datetime.datetime(2025, 7, 6, 12, 43, 7, tzinfo=tzlocal())}],\n",
       " 'Owner': {'DisplayName': 'ajayab7799',\n",
       "  'ID': '15714143a013a7d87747c3e23bed860d48d9780f024b744ec7aa21e88ca2570c'}}"
      ]
     },
     "execution_count": 5,
     "metadata": {},
     "output_type": "execute_result"
    }
   ],
   "source": [
    "import boto3\n",
    "s3 = boto3.client(\"s3\")\n",
    "s3.list_buckets()"
   ]
  },
  {
   "cell_type": "code",
   "execution_count": 6,
   "id": "127dda5e-b1bf-4519-8726-c1e3981b3781",
   "metadata": {},
   "outputs": [],
   "source": [
    "df = spark.read.csv('financial_risk.csv',header=True, inferSchema = True)"
   ]
  },
  {
   "cell_type": "code",
   "execution_count": 7,
   "id": "97ea4903-12ae-4688-87a4-7fd2287e2be5",
   "metadata": {},
   "outputs": [
    {
     "name": "stdout",
     "output_type": "stream",
     "text": [
      "+---+----------+---------------+--------------+--------+------------+-----------+------------+-----------------+--------------------+---------------+--------------------+------------+--------------------+----------------+-----+--------------------+-----------------+---------------------+-----------+\n",
      "|Age|    Gender|Education Level|Marital Status|  Income|Credit Score|Loan Amount|Loan Purpose|Employment Status|Years at Current Job|Payment History|Debt-to-Income Ratio|Assets Value|Number of Dependents|            City|State|             Country|Previous Defaults|Marital Status Change|Risk Rating|\n",
      "+---+----------+---------------+--------------+--------+------------+-----------+------------+-----------------+--------------------+---------------+--------------------+------------+--------------------+----------------+-----+--------------------+-----------------+---------------------+-----------+\n",
      "| 49|      Male|            PhD|      Divorced| 72799.0|       688.0|    45713.0|    Business|       Unemployed|                  19|           Poor| 0.15431329631270066|    120228.0|                 0.0|  Port Elizabeth|   AS|              Cyprus|              2.0|                    2|        Low|\n",
      "| 57|    Female|     Bachelor's|       Widowed|    NULL|       690.0|    33835.0|        Auto|         Employed|                   6|           Fair| 0.14891964322471593|     55849.0|                 0.0| North Catherine|   OH|        Turkmenistan|              3.0|                    2|     Medium|\n",
      "| 21|Non-binary|       Master's|        Single| 55687.0|       600.0|    36623.0|        Home|         Employed|                   8|           Fair| 0.36239801732546084|    180700.0|                 3.0|     South Scott|   OK|          Luxembourg|              3.0|                    2|     Medium|\n",
      "| 59|      Male|     Bachelor's|        Single| 26508.0|       622.0|    26541.0|    Personal|       Unemployed|                   2|      Excellent| 0.45496438073379486|    157319.0|                 3.0|      Robinhaven|   PR|              Uganda|              4.0|                    2|     Medium|\n",
      "| 25|Non-binary|     Bachelor's|       Widowed| 49427.0|       766.0|    36528.0|    Personal|       Unemployed|                  10|           Fair| 0.14324242402046136|    287140.0|                NULL|     New Heather|   IL|             Namibia|              3.0|                    1|        Low|\n",
      "| 30|Non-binary|            PhD|      Divorced|    NULL|       717.0|    15613.0|    Business|       Unemployed|                   5|           Fair|  0.2959844500430854|        NULL|                 4.0|       Brianland|   TN|             Iceland|              3.0|                    1|     Medium|\n",
      "| 31|Non-binary|       Master's|       Widowed| 45280.0|       672.0|     6553.0|    Personal|    Self-employed|                   1|           Good| 0.37888993741531785|        NULL|                NULL|  West Lindaview|   MD|Bouvet Island (Bo...|              0.0|                    1|        Low|\n",
      "| 18|      Male|     Bachelor's|       Widowed| 93678.0|        NULL|       NULL|    Business|       Unemployed|                  10|           Poor|  0.3966357236164678|    246597.0|                 1.0|    Melissahaven|   MA|            Honduras|              1.0|                    1|        Low|\n",
      "| 32|Non-binary|     Bachelor's|       Widowed| 20205.0|       710.0|       NULL|        Auto|       Unemployed|                   4|           Fair|   0.335964977578598|    227599.0|                 0.0|   North Beverly|   DC|    Pitcairn Islands|              4.0|                    2|        Low|\n",
      "| 55|      Male|     Bachelor's|       Married| 32190.0|       600.0|    29918.0|    Personal|    Self-employed|                   5|      Excellent| 0.48433330455936785|    130507.0|                 4.0|       Davidstad|   VT|            Thailand|             NULL|                    2|        Low|\n",
      "| 42|Non-binary|       Master's|        Single|116212.0|       707.0|    24771.0|        Home|         Employed|                  11|      Excellent| 0.11413374759829523|    212198.0|                 3.0|  Matthewborough|   NH|       French Guiana|              0.0|                    2|     Medium|\n",
      "| 37|Non-binary|       Master's|      Divorced| 78855.0|       718.0|       NULL|        Home|    Self-employed|                  17|           Poor| 0.19392128861142002|    272522.0|                NULL|         Orrstad|   OH|Antarctica (the t...|              3.0|                    2|        Low|\n",
      "| 60|    Female|            PhD|      Divorced|    NULL|       686.0|    15497.0|    Personal|    Self-employed|                  18|           Poor| 0.32817470742252786|     47603.0|                 4.0|West Kelseymouth|   NM|             Eritrea|              2.0|                    2|       High|\n",
      "| 68|      Male|    High School|      Divorced| 79454.0|       688.0|    43365.0|    Personal|    Self-employed|                  15|           Good| 0.32928154385036545|     61967.0|                NULL|      Dakotafurt|   IA|             Grenada|              3.0|                    0|     Medium|\n",
      "| 29|      Male|    High School|      Divorced|119510.0|        NULL|     5013.0|        Auto|         Employed|                  17|           Poor| 0.49972186119334105|     50568.0|                NULL|     Deborahtown|   AZ|     Solomon Islands|              2.0|                    2|     Medium|\n",
      "| 68|    Female|            PhD|      Divorced|    NULL|        NULL|    42951.0|        Auto|    Self-employed|                   6|           Fair|  0.5507459353458977|     67070.0|                 4.0|    East Kristin|   MH|          Guadeloupe|              2.0|                    2|        Low|\n",
      "| 55|      Male|    High School|       Married| 70978.0|       706.0|    36970.0|    Personal|       Unemployed|                  19|      Excellent| 0.26694090925040004|     54041.0|                 3.0|Christophermouth|   MO|               Tonga|              1.0|                    0|     Medium|\n",
      "| 18|    Female|       Master's|       Widowed|102628.0|       654.0|    25442.0|        Home|       Unemployed|                   8|           Poor|  0.1618325788225118|        NULL|                 3.0|    West Patrick|   IA|              Taiwan|              1.0|                    2|     Medium|\n",
      "| 60|Non-binary|     Bachelor's|      Divorced|    NULL|       738.0|    37001.0|    Business|         Employed|                   7|           Fair| 0.33897097318669367|     53055.0|                NULL|     Johnsonstad|   MS|              Malawi|              1.0|                    2|        Low|\n",
      "| 56|Non-binary|            PhD|       Married| 21084.0|       702.0|    22039.0|    Personal|         Employed|                  19|           Fair| 0.23104637400031283|    226053.0|                 2.0|      East James|   MP|         Isle of Man|              0.0|                    2|     Medium|\n",
      "+---+----------+---------------+--------------+--------+------------+-----------+------------+-----------------+--------------------+---------------+--------------------+------------+--------------------+----------------+-----+--------------------+-----------------+---------------------+-----------+\n",
      "only showing top 20 rows\n",
      "\n"
     ]
    }
   ],
   "source": [
    "df.show()"
   ]
  },
  {
   "cell_type": "code",
   "execution_count": 8,
   "id": "f7dce27e-36d8-4369-b42c-80c6a1e337e4",
   "metadata": {},
   "outputs": [],
   "source": [
    "df_main = df.selectExpr(\"row_number() over(order by age) as id\", \"*\")"
   ]
  },
  {
   "cell_type": "code",
   "execution_count": 10,
   "id": "9b237a61-9b18-4582-bfea-9b1de01a07f2",
   "metadata": {},
   "outputs": [
    {
     "name": "stdout",
     "output_type": "stream",
     "text": [
      "+---+---+----------+---------------+--------------+--------+------------+-----------+------------+-----------------+--------------------+---------------+--------------------+------------+--------------------+-----------------+-----+--------------------+-----------------+---------------------+-----------+\n",
      "| id|Age|    Gender|Education Level|Marital Status|  Income|Credit Score|Loan Amount|Loan Purpose|Employment Status|Years at Current Job|Payment History|Debt-to-Income Ratio|Assets Value|Number of Dependents|             City|State|             Country|Previous Defaults|Marital Status Change|Risk Rating|\n",
      "+---+---+----------+---------------+--------------+--------+------------+-----------+------------+-----------------+--------------------+---------------+--------------------+------------+--------------------+-----------------+-----+--------------------+-----------------+---------------------+-----------+\n",
      "|  1| 18|    Female|            PhD|        Single| 87346.0|        NULL|    26863.0|        Home|         Employed|                  11|           Poor|  0.5565990541229334|    164061.0|                 3.0| South Jeremyfurt|   AK|       Cote d'Ivoire|              3.0|                    1|        Low|\n",
      "|  2| 18|      Male|       Master's|       Widowed| 84162.0|       606.0|     5015.0|    Business|    Self-employed|                  17|           Poor|  0.3890696709800946|    275773.0|                 1.0|      Amandamouth|   KS|            Cambodia|              1.0|                    2|        Low|\n",
      "|  3| 18|Non-binary|    High School|      Divorced| 27313.0|       786.0|    24399.0|        Auto|    Self-employed|                  10|      Excellent|  0.1510468100347879|    284643.0|                 4.0|      Traceyshire|   FL|     North Macedonia|             NULL|                    2|        Low|\n",
      "|  4| 18|      Male|     Bachelor's|       Widowed| 93678.0|        NULL|       NULL|    Business|       Unemployed|                  10|           Poor|  0.3966357236164678|    246597.0|                 1.0|     Melissahaven|   MA|            Honduras|              1.0|                    1|        Low|\n",
      "|  5| 18|Non-binary|       Master's|        Single|    NULL|       651.0|    18653.0|        Home|    Self-employed|                  16|           Good| 0.49222995000773917|    226806.0|                 0.0|      Curtisville|   PW|             Mayotte|              3.0|                    1|       High|\n",
      "|  6| 18|Non-binary|            PhD|      Divorced|107329.0|       735.0|    22694.0|        Home|    Self-employed|                   1|           Poor|   0.232809019850618|     71327.0|                 4.0|     East Michael|   MP|Netherlands Antilles|             NULL|                    1|        Low|\n",
      "|  7| 18|    Female|       Master's|      Divorced|    NULL|       748.0|    14522.0|        Home|       Unemployed|                  14|           Good|  0.5628099578361062|    176629.0|                NULL|     Campbellfort|   AL|               China|              1.0|                    2|        Low|\n",
      "|  8| 18|    Female|       Master's|       Widowed|102628.0|       654.0|    25442.0|        Home|       Unemployed|                   8|           Poor|  0.1618325788225118|        NULL|                 3.0|     West Patrick|   IA|              Taiwan|              1.0|                    2|     Medium|\n",
      "|  9| 18|Non-binary|    High School|       Widowed| 99671.0|       669.0|    30460.0|    Personal|       Unemployed|                  18|           Poor|  0.4338122306863922|     25531.0|                 1.0|Jacquelineborough|   MP|              Greece|              1.0|                    1|     Medium|\n",
      "+---+---+----------+---------------+--------------+--------+------------+-----------+------------+-----------------+--------------------+---------------+--------------------+------------+--------------------+-----------------+-----+--------------------+-----------------+---------------------+-----------+\n",
      "only showing top 9 rows\n",
      "\n"
     ]
    }
   ],
   "source": [
    "df_main.show(9)"
   ]
  },
  {
   "cell_type": "code",
   "execution_count": 11,
   "id": "712f5d81-3992-4d96-b84a-fd3846463b95",
   "metadata": {},
   "outputs": [],
   "source": [
    "df_main_1 = df_main.selectExpr(\"id\",\"Gender\",\n",
    "    \"`Education level` as Qualification\",\n",
    "    \"`Marital Status` as Marital_status\",\n",
    "    \"Income\",\n",
    "    \"`Credit Score` as Credit_score\",\n",
    "    \"`Loan Amount` as Loan_Amount\",\n",
    "    \"`Loan Purpose` as Loan_Purpose\",\n",
    "    \"`Employment Status` as Employment_Status\",\n",
    "    \"`Years at Current Job` as Current_Job_YOE\",\n",
    "    \"`Payment History` as Payment_History\",\n",
    "    \"`Debt-to-Income Ratio` as Debt_to_Income_Ratio\",\n",
    "    \"`Assets Value` as Assets_Value\",\n",
    "    \"`Number of Dependents` as Dependents\",\n",
    "    \"City\",\n",
    "    \"State\",\n",
    "    \"Country\",\n",
    "    \"`Previous Defaults` as Previous_Defaults\",\n",
    "    \"`Risk Rating` as Risk_Rating\"\n",
    ")\n"
   ]
  },
  {
   "cell_type": "code",
   "execution_count": 12,
   "id": "2a176fd7-9318-47ba-8242-c3d95151424e",
   "metadata": {},
   "outputs": [
    {
     "name": "stdout",
     "output_type": "stream",
     "text": [
      "+---+----------+-------------+--------------+--------+------------+-----------+------------+-----------------+---------------+---------------+--------------------+------------+----------+------------------+-----+--------------------+-----------------+-----------+\n",
      "| id|    Gender|Qualification|Marital_status|  Income|Credit_score|Loan_Amount|Loan_Purpose|Employment_Status|Current_Job_YOE|Payment_History|Debt_to_Income_Ratio|Assets_Value|Dependents|              City|State|             Country|Previous_Defaults|Risk_Rating|\n",
      "+---+----------+-------------+--------------+--------+------------+-----------+------------+-----------------+---------------+---------------+--------------------+------------+----------+------------------+-----+--------------------+-----------------+-----------+\n",
      "|  1|      Male|   Bachelor's|       Widowed| 25605.0|       751.0|    14785.0|        Auto|       Unemployed|             17|           Fair| 0.33994669003424505|    285745.0|       3.0|      Samanthastad|   MI|               Congo|              1.0|       High|\n",
      "|  2|Non-binary|     Master's|       Widowed|    NULL|       779.0|    17616.0|        Auto|         Employed|             18|      Excellent|  0.1515554246622575|    257783.0|      NULL|      New Johnland|   WA|              Jordan|              1.0|       High|\n",
      "|  3|Non-binary|   Bachelor's|       Married| 36756.0|       608.0|    13957.0|    Personal|       Unemployed|              0|           Fair| 0.15481403667787233|    245075.0|       4.0|      Port Jessica|   FL|            Tanzania|              2.0|       High|\n",
      "|  4|      Male|     Master's|       Widowed| 84162.0|       606.0|     5015.0|    Business|    Self-employed|             17|           Poor|  0.3890696709800946|    275773.0|       1.0|       Amandamouth|   KS|            Cambodia|              1.0|        Low|\n",
      "|  5|    Female|   Bachelor's|        Single|117270.0|       639.0|    12351.0|    Business|    Self-employed|              1|           Poor|  0.1654573496046464|    186272.0|       4.0|       Donaldville|   HI|               Egypt|              3.0|     Medium|\n",
      "|  6|Non-binary|     Master's|        Single|    NULL|       651.0|    18653.0|        Home|    Self-employed|             16|           Good| 0.49222995000773917|    226806.0|       0.0|       Curtisville|   PW|             Mayotte|              3.0|       High|\n",
      "|  7|Non-binary|     Master's|      Divorced|    NULL|        NULL|    32113.0|        Home|         Employed|              2|      Excellent| 0.15963381099114013|     50047.0|       3.0|        Joneshaven|   MN|              Kuwait|              2.0|     Medium|\n",
      "|  8|    Female|     Master's|      Divorced|    NULL|       748.0|    14522.0|        Home|       Unemployed|             14|           Good|  0.5628099578361062|    176629.0|      NULL|      Campbellfort|   AL|               China|              1.0|        Low|\n",
      "|  9|    Female|     Master's|       Married| 45187.0|       626.0|    35335.0|    Business|    Self-employed|              6|      Excellent| 0.34850421550255795|     96908.0|       4.0|      Port Antonio|   WY|              Brazil|             NULL|     Medium|\n",
      "| 10|Non-binary|  High School|      Divorced| 27313.0|       786.0|    24399.0|        Auto|    Self-employed|             10|      Excellent|  0.1510468100347879|    284643.0|       4.0|       Traceyshire|   FL|     North Macedonia|             NULL|        Low|\n",
      "| 11|      Male|  High School|       Married| 77154.0|       726.0|       NULL|        Home|    Self-employed|              7|           Good|  0.2279881245447676|    281128.0|       2.0|  East Thomasmouth|   MN|           Hong Kong|              2.0|        Low|\n",
      "| 12|Non-binary|     Master's|       Widowed| 71500.0|       734.0|    44400.0|    Personal|    Self-employed|             14|      Excellent| 0.24810419892321986|    127985.0|       4.0|        Dustinbury|   CT|              Malawi|             NULL|        Low|\n",
      "| 13|      Male|  High School|      Divorced| 41788.0|       656.0|    41755.0|        Home|         Employed|             17|           Poor|  0.2574316877026943|    161590.0|       0.0|   West Danielland|   MA|     Kyrgyz Republic|              1.0|     Medium|\n",
      "| 14|      Male|          PhD|       Married| 80378.0|       639.0|    31920.0|    Business|         Employed|             11|           Good| 0.12484854148582583|    214743.0|       3.0|    South Amymouth|   IA|               Macao|              3.0|     Medium|\n",
      "| 15|    Female|   Bachelor's|      Divorced| 22774.0|       603.0|    42803.0|        Home|         Employed|              1|      Excellent|  0.4430711586017164|        NULL|       2.0|       Josephmouth|   WY|             Reunion|              3.0|     Medium|\n",
      "| 16|    Female|  High School|       Widowed|116604.0|        NULL|       NULL|        Auto|         Employed|             11|           Good|  0.5675990092599666|     85418.0|       0.0|       West Kimton|   CT|              Zambia|              0.0|     Medium|\n",
      "| 17|Non-binary|   Bachelor's|       Married| 73140.0|       621.0|    29726.0|    Business|       Unemployed|              5|           Fair|  0.3763911109004887|     86124.0|       2.0|        Fowlerport|   GU|Central African R...|              2.0|     Medium|\n",
      "| 18|      Male|   Bachelor's|      Divorced| 63578.0|       681.0|    26888.0|    Business|         Employed|             12|           Fair| 0.10171080242950517|     49558.0|       2.0|North Shannonmouth|   IA|           Venezuela|              4.0|        Low|\n",
      "| 19|    Female|     Master's|        Single|    NULL|       642.0|       NULL|    Personal|    Self-employed|             12|           Poor|  0.3699720501674575|    198426.0|       3.0|      Lake Charles|   GU|            Honduras|             NULL|        Low|\n",
      "| 20|Non-binary|  High School|      Divorced| 65344.0|       724.0|       NULL|    Business|         Employed|              2|      Excellent| 0.18053225665211273|     77683.0|       3.0|     Christineside|   MH|              Angola|              4.0|        Low|\n",
      "+---+----------+-------------+--------------+--------+------------+-----------+------------+-----------------+---------------+---------------+--------------------+------------+----------+------------------+-----+--------------------+-----------------+-----------+\n",
      "only showing top 20 rows\n",
      "\n"
     ]
    }
   ],
   "source": [
    "df_main_1.show()"
   ]
  },
  {
   "cell_type": "code",
   "execution_count": 13,
   "id": "2c8a291e-c990-483c-86c5-4ccffe16a5c4",
   "metadata": {},
   "outputs": [],
   "source": [
    "df_gender = df_main_1.select('Gender').groupBy('Gender').count()"
   ]
  },
  {
   "cell_type": "code",
   "execution_count": 14,
   "id": "c10d96a9-05c9-4e47-9992-822873db6ca1",
   "metadata": {},
   "outputs": [
    {
     "name": "stdout",
     "output_type": "stream",
     "text": [
      "+----------+-----+\n",
      "|    Gender|count|\n",
      "+----------+-----+\n",
      "|    Female| 4990|\n",
      "|Non-binary| 5059|\n",
      "|      Male| 4951|\n",
      "+----------+-----+\n",
      "\n"
     ]
    }
   ],
   "source": [
    "df_gender.show()"
   ]
  },
  {
   "cell_type": "code",
   "execution_count": 15,
   "id": "2d0ba8be-22d8-45f2-b8da-865351650747",
   "metadata": {},
   "outputs": [],
   "source": [
    "df_main_1.createOrReplaceTempView('financial_risk_table')"
   ]
  },
  {
   "cell_type": "code",
   "execution_count": 16,
   "id": "5dc90ae4-6408-45e1-9f57-cd6790335b39",
   "metadata": {},
   "outputs": [],
   "source": [
    "df_loanPurpose = spark.sql(\"select Loan_Purpose,count(1) from financial_risk_table group by Loan_Purpose\")"
   ]
  },
  {
   "cell_type": "code",
   "execution_count": 17,
   "id": "e5a1a3d4-9a76-4b6b-92fd-3bd3bcebeb5c",
   "metadata": {},
   "outputs": [
    {
     "name": "stdout",
     "output_type": "stream",
     "text": [
      "+------------+--------+\n",
      "|Loan_Purpose|count(1)|\n",
      "+------------+--------+\n",
      "|        Home|    3766|\n",
      "|    Personal|    3771|\n",
      "|        Auto|    3725|\n",
      "|    Business|    3738|\n",
      "+------------+--------+\n",
      "\n"
     ]
    }
   ],
   "source": [
    "df_loanPurpose.show()"
   ]
  },
  {
   "cell_type": "code",
   "execution_count": 18,
   "id": "2a5c5839-3b21-4f72-82cf-37506169a987",
   "metadata": {},
   "outputs": [],
   "source": [
    "df_study = spark.sql(\"select qualification,count(1) cnt from financial_risk_table group by 1\")"
   ]
  },
  {
   "cell_type": "code",
   "execution_count": 19,
   "id": "56b191ce-71d5-40dc-86ab-7eb2c1cd652b",
   "metadata": {},
   "outputs": [
    {
     "name": "stdout",
     "output_type": "stream",
     "text": [
      "+-------------+----+\n",
      "|qualification| cnt|\n",
      "+-------------+----+\n",
      "|  High School|3774|\n",
      "|          PhD|3760|\n",
      "|   Bachelor's|3829|\n",
      "|     Master's|3637|\n",
      "+-------------+----+\n",
      "\n"
     ]
    }
   ],
   "source": [
    "df_study.show()"
   ]
  },
  {
   "cell_type": "code",
   "execution_count": 20,
   "id": "9e1e511d-4f82-4bfc-a7fb-c5ebcebc3559",
   "metadata": {},
   "outputs": [],
   "source": [
    "df_qualification_altered = spark.sql(\"\"\"\n",
    "    SELECT \n",
    "        CASE \n",
    "            WHEN Trim(Qualification) LIKE '%Bachelor''s%' THEN 'UG'\n",
    "            WHEN Trim(Qualification) LIKE '%Master''s%' THEN 'PG'\n",
    "            WHEN Trim(Qualification) ILIKE '%High School%' THEN 'High_School'\n",
    "            ELSE Qualification \n",
    "        END AS Qualification\n",
    "    FROM financial_risk_table\n",
    "\"\"\")\n"
   ]
  },
  {
   "cell_type": "code",
   "execution_count": 21,
   "id": "1a751d5b-9fdb-49f3-8b70-c9b4d059b87d",
   "metadata": {},
   "outputs": [
    {
     "name": "stdout",
     "output_type": "stream",
     "text": [
      "+-------------+\n",
      "|Qualification|\n",
      "+-------------+\n",
      "|          PhD|\n",
      "|   Bachelor's|\n",
      "|     Master's|\n",
      "|   Bachelor's|\n",
      "|   Bachelor's|\n",
      "|          PhD|\n",
      "|     Master's|\n",
      "|   Bachelor's|\n",
      "|   Bachelor's|\n",
      "|   Bachelor's|\n",
      "|     Master's|\n",
      "|     Master's|\n",
      "|          PhD|\n",
      "|  High_School|\n",
      "|  High_School|\n",
      "|          PhD|\n",
      "|  High_School|\n",
      "|     Master's|\n",
      "|   Bachelor's|\n",
      "|          PhD|\n",
      "+-------------+\n",
      "only showing top 20 rows\n",
      "\n"
     ]
    }
   ],
   "source": [
    "df_qualification_altered.show()"
   ]
  },
  {
   "cell_type": "code",
   "execution_count": 22,
   "id": "b6671bb3-ff57-4d2f-ac8d-4f5d50a8d4c6",
   "metadata": {},
   "outputs": [],
   "source": [
    "from pyspark.sql.functions import when, col, lower, trim\n",
    "\n",
    "df_qualification_altered = df_main_1.withColumn(\n",
    "    \"Qualification\",\n",
    "    when(lower(trim(col(\"Qualification\"))).like(\"%bachelor's%\"), \"UG\")\n",
    "    .when(lower(trim(col(\"Qualification\"))).like(\"%master's%\"), \"PG\")\n",
    "    .when(lower(trim(col(\"Qualification\"))).like(\"%high school%\"), \"HS\")\n",
    "    .otherwise(col(\"Qualification\"))\n",
    ")"
   ]
  },
  {
   "cell_type": "code",
   "execution_count": 23,
   "id": "8ce80134-aad1-4eca-88be-ecb1fb9510ea",
   "metadata": {},
   "outputs": [
    {
     "name": "stdout",
     "output_type": "stream",
     "text": [
      "+---+----------+-------------+--------------+--------+------------+-----------+------------+-----------------+---------------+---------------+--------------------+------------+----------+------------------+-----+--------------------+-----------------+-----------+\n",
      "| id|    Gender|Qualification|Marital_status|  Income|Credit_score|Loan_Amount|Loan_Purpose|Employment_Status|Current_Job_YOE|Payment_History|Debt_to_Income_Ratio|Assets_Value|Dependents|              City|State|             Country|Previous_Defaults|Risk_Rating|\n",
      "+---+----------+-------------+--------------+--------+------------+-----------+------------+-----------------+---------------+---------------+--------------------+------------+----------+------------------+-----+--------------------+-----------------+-----------+\n",
      "|  1|      Male|           UG|       Widowed| 25605.0|       751.0|    14785.0|        Auto|       Unemployed|             17|           Fair| 0.33994669003424505|    285745.0|       3.0|      Samanthastad|   MI|               Congo|              1.0|       High|\n",
      "|  2|Non-binary|           PG|       Widowed|    NULL|       779.0|    17616.0|        Auto|         Employed|             18|      Excellent|  0.1515554246622575|    257783.0|      NULL|      New Johnland|   WA|              Jordan|              1.0|       High|\n",
      "|  3|Non-binary|           UG|       Married| 36756.0|       608.0|    13957.0|    Personal|       Unemployed|              0|           Fair| 0.15481403667787233|    245075.0|       4.0|      Port Jessica|   FL|            Tanzania|              2.0|       High|\n",
      "|  4|      Male|           PG|       Widowed| 84162.0|       606.0|     5015.0|    Business|    Self-employed|             17|           Poor|  0.3890696709800946|    275773.0|       1.0|       Amandamouth|   KS|            Cambodia|              1.0|        Low|\n",
      "|  5|    Female|           UG|        Single|117270.0|       639.0|    12351.0|    Business|    Self-employed|              1|           Poor|  0.1654573496046464|    186272.0|       4.0|       Donaldville|   HI|               Egypt|              3.0|     Medium|\n",
      "|  6|Non-binary|           PG|        Single|    NULL|       651.0|    18653.0|        Home|    Self-employed|             16|           Good| 0.49222995000773917|    226806.0|       0.0|       Curtisville|   PW|             Mayotte|              3.0|       High|\n",
      "|  7|Non-binary|           PG|      Divorced|    NULL|        NULL|    32113.0|        Home|         Employed|              2|      Excellent| 0.15963381099114013|     50047.0|       3.0|        Joneshaven|   MN|              Kuwait|              2.0|     Medium|\n",
      "|  8|    Female|           PG|      Divorced|    NULL|       748.0|    14522.0|        Home|       Unemployed|             14|           Good|  0.5628099578361062|    176629.0|      NULL|      Campbellfort|   AL|               China|              1.0|        Low|\n",
      "|  9|    Female|           PG|       Married| 45187.0|       626.0|    35335.0|    Business|    Self-employed|              6|      Excellent| 0.34850421550255795|     96908.0|       4.0|      Port Antonio|   WY|              Brazil|             NULL|     Medium|\n",
      "| 10|Non-binary|           HS|      Divorced| 27313.0|       786.0|    24399.0|        Auto|    Self-employed|             10|      Excellent|  0.1510468100347879|    284643.0|       4.0|       Traceyshire|   FL|     North Macedonia|             NULL|        Low|\n",
      "| 11|      Male|           HS|       Married| 77154.0|       726.0|       NULL|        Home|    Self-employed|              7|           Good|  0.2279881245447676|    281128.0|       2.0|  East Thomasmouth|   MN|           Hong Kong|              2.0|        Low|\n",
      "| 12|Non-binary|           PG|       Widowed| 71500.0|       734.0|    44400.0|    Personal|    Self-employed|             14|      Excellent| 0.24810419892321986|    127985.0|       4.0|        Dustinbury|   CT|              Malawi|             NULL|        Low|\n",
      "| 13|      Male|           HS|      Divorced| 41788.0|       656.0|    41755.0|        Home|         Employed|             17|           Poor|  0.2574316877026943|    161590.0|       0.0|   West Danielland|   MA|     Kyrgyz Republic|              1.0|     Medium|\n",
      "| 14|      Male|          PhD|       Married| 80378.0|       639.0|    31920.0|    Business|         Employed|             11|           Good| 0.12484854148582583|    214743.0|       3.0|    South Amymouth|   IA|               Macao|              3.0|     Medium|\n",
      "| 15|    Female|           UG|      Divorced| 22774.0|       603.0|    42803.0|        Home|         Employed|              1|      Excellent|  0.4430711586017164|        NULL|       2.0|       Josephmouth|   WY|             Reunion|              3.0|     Medium|\n",
      "| 16|    Female|           HS|       Widowed|116604.0|        NULL|       NULL|        Auto|         Employed|             11|           Good|  0.5675990092599666|     85418.0|       0.0|       West Kimton|   CT|              Zambia|              0.0|     Medium|\n",
      "| 17|Non-binary|           UG|       Married| 73140.0|       621.0|    29726.0|    Business|       Unemployed|              5|           Fair|  0.3763911109004887|     86124.0|       2.0|        Fowlerport|   GU|Central African R...|              2.0|     Medium|\n",
      "| 18|      Male|           UG|      Divorced| 63578.0|       681.0|    26888.0|    Business|         Employed|             12|           Fair| 0.10171080242950517|     49558.0|       2.0|North Shannonmouth|   IA|           Venezuela|              4.0|        Low|\n",
      "| 19|    Female|           PG|        Single|    NULL|       642.0|       NULL|    Personal|    Self-employed|             12|           Poor|  0.3699720501674575|    198426.0|       3.0|      Lake Charles|   GU|            Honduras|             NULL|        Low|\n",
      "| 20|Non-binary|           HS|      Divorced| 65344.0|       724.0|       NULL|    Business|         Employed|              2|      Excellent| 0.18053225665211273|     77683.0|       3.0|     Christineside|   MH|              Angola|              4.0|        Low|\n",
      "+---+----------+-------------+--------------+--------+------------+-----------+------------+-----------------+---------------+---------------+--------------------+------------+----------+------------------+-----+--------------------+-----------------+-----------+\n",
      "only showing top 20 rows\n",
      "\n"
     ]
    }
   ],
   "source": [
    "df_qualification_altered.show()"
   ]
  },
  {
   "cell_type": "code",
   "execution_count": 24,
   "id": "e5b7a7dc-e0dd-4086-8fb4-688243f7f91b",
   "metadata": {},
   "outputs": [
    {
     "name": "stdout",
     "output_type": "stream",
     "text": [
      "+-----------+--------+\n",
      "|income_dist|count(1)|\n",
      "+-----------+--------+\n",
      "|     amount|   12750|\n",
      "|       null|    2250|\n",
      "+-----------+--------+\n",
      "\n"
     ]
    }
   ],
   "source": [
    "spark.sql('''select case when income > 0 then 'amount' else 'null' end income_dist,count(1)\n",
    "from financial_risk_table group by  income_dist ''').show()"
   ]
  },
  {
   "cell_type": "code",
   "execution_count": 25,
   "id": "26273803-43d1-40cb-a11b-05d0a6bb917e",
   "metadata": {},
   "outputs": [],
   "source": [
    "# df_income = spark.sql(''' update financial_risk_table\n",
    "#     set Income = 0.0 \n",
    "#     where Income is NULL''').show()\n",
    "\n",
    "df_income = df_qualification_altered.fillna(0.0, subset=['Income'])\n"
   ]
  },
  {
   "cell_type": "code",
   "execution_count": 26,
   "id": "93369b23-fc2a-40cd-88c9-88c8f4463314",
   "metadata": {},
   "outputs": [
    {
     "name": "stdout",
     "output_type": "stream",
     "text": [
      "+---+----------+-------------+--------------+--------+------------+-----------+------------+-----------------+---------------+---------------+--------------------+------------+----------+------------------+-----+--------------------+-----------------+-----------+\n",
      "| id|    Gender|Qualification|Marital_status|  Income|Credit_score|Loan_Amount|Loan_Purpose|Employment_Status|Current_Job_YOE|Payment_History|Debt_to_Income_Ratio|Assets_Value|Dependents|              City|State|             Country|Previous_Defaults|Risk_Rating|\n",
      "+---+----------+-------------+--------------+--------+------------+-----------+------------+-----------------+---------------+---------------+--------------------+------------+----------+------------------+-----+--------------------+-----------------+-----------+\n",
      "|  1|      Male|           UG|       Widowed| 25605.0|       751.0|    14785.0|        Auto|       Unemployed|             17|           Fair| 0.33994669003424505|    285745.0|       3.0|      Samanthastad|   MI|               Congo|              1.0|       High|\n",
      "|  2|Non-binary|           PG|       Widowed|     0.0|       779.0|    17616.0|        Auto|         Employed|             18|      Excellent|  0.1515554246622575|    257783.0|      NULL|      New Johnland|   WA|              Jordan|              1.0|       High|\n",
      "|  3|Non-binary|           UG|       Married| 36756.0|       608.0|    13957.0|    Personal|       Unemployed|              0|           Fair| 0.15481403667787233|    245075.0|       4.0|      Port Jessica|   FL|            Tanzania|              2.0|       High|\n",
      "|  4|      Male|           PG|       Widowed| 84162.0|       606.0|     5015.0|    Business|    Self-employed|             17|           Poor|  0.3890696709800946|    275773.0|       1.0|       Amandamouth|   KS|            Cambodia|              1.0|        Low|\n",
      "|  5|    Female|           UG|        Single|117270.0|       639.0|    12351.0|    Business|    Self-employed|              1|           Poor|  0.1654573496046464|    186272.0|       4.0|       Donaldville|   HI|               Egypt|              3.0|     Medium|\n",
      "|  6|Non-binary|           PG|        Single|     0.0|       651.0|    18653.0|        Home|    Self-employed|             16|           Good| 0.49222995000773917|    226806.0|       0.0|       Curtisville|   PW|             Mayotte|              3.0|       High|\n",
      "|  7|Non-binary|           PG|      Divorced|     0.0|        NULL|    32113.0|        Home|         Employed|              2|      Excellent| 0.15963381099114013|     50047.0|       3.0|        Joneshaven|   MN|              Kuwait|              2.0|     Medium|\n",
      "|  8|    Female|           PG|      Divorced|     0.0|       748.0|    14522.0|        Home|       Unemployed|             14|           Good|  0.5628099578361062|    176629.0|      NULL|      Campbellfort|   AL|               China|              1.0|        Low|\n",
      "|  9|    Female|           PG|       Married| 45187.0|       626.0|    35335.0|    Business|    Self-employed|              6|      Excellent| 0.34850421550255795|     96908.0|       4.0|      Port Antonio|   WY|              Brazil|             NULL|     Medium|\n",
      "| 10|Non-binary|           HS|      Divorced| 27313.0|       786.0|    24399.0|        Auto|    Self-employed|             10|      Excellent|  0.1510468100347879|    284643.0|       4.0|       Traceyshire|   FL|     North Macedonia|             NULL|        Low|\n",
      "| 11|      Male|           HS|       Married| 77154.0|       726.0|       NULL|        Home|    Self-employed|              7|           Good|  0.2279881245447676|    281128.0|       2.0|  East Thomasmouth|   MN|           Hong Kong|              2.0|        Low|\n",
      "| 12|Non-binary|           PG|       Widowed| 71500.0|       734.0|    44400.0|    Personal|    Self-employed|             14|      Excellent| 0.24810419892321986|    127985.0|       4.0|        Dustinbury|   CT|              Malawi|             NULL|        Low|\n",
      "| 13|      Male|           HS|      Divorced| 41788.0|       656.0|    41755.0|        Home|         Employed|             17|           Poor|  0.2574316877026943|    161590.0|       0.0|   West Danielland|   MA|     Kyrgyz Republic|              1.0|     Medium|\n",
      "| 14|      Male|          PhD|       Married| 80378.0|       639.0|    31920.0|    Business|         Employed|             11|           Good| 0.12484854148582583|    214743.0|       3.0|    South Amymouth|   IA|               Macao|              3.0|     Medium|\n",
      "| 15|    Female|           UG|      Divorced| 22774.0|       603.0|    42803.0|        Home|         Employed|              1|      Excellent|  0.4430711586017164|        NULL|       2.0|       Josephmouth|   WY|             Reunion|              3.0|     Medium|\n",
      "| 16|    Female|           HS|       Widowed|116604.0|        NULL|       NULL|        Auto|         Employed|             11|           Good|  0.5675990092599666|     85418.0|       0.0|       West Kimton|   CT|              Zambia|              0.0|     Medium|\n",
      "| 17|Non-binary|           UG|       Married| 73140.0|       621.0|    29726.0|    Business|       Unemployed|              5|           Fair|  0.3763911109004887|     86124.0|       2.0|        Fowlerport|   GU|Central African R...|              2.0|     Medium|\n",
      "| 18|      Male|           UG|      Divorced| 63578.0|       681.0|    26888.0|    Business|         Employed|             12|           Fair| 0.10171080242950517|     49558.0|       2.0|North Shannonmouth|   IA|           Venezuela|              4.0|        Low|\n",
      "| 19|    Female|           PG|        Single|     0.0|       642.0|       NULL|    Personal|    Self-employed|             12|           Poor|  0.3699720501674575|    198426.0|       3.0|      Lake Charles|   GU|            Honduras|             NULL|        Low|\n",
      "| 20|Non-binary|           HS|      Divorced| 65344.0|       724.0|       NULL|    Business|         Employed|              2|      Excellent| 0.18053225665211273|     77683.0|       3.0|     Christineside|   MH|              Angola|              4.0|        Low|\n",
      "+---+----------+-------------+--------------+--------+------------+-----------+------------+-----------------+---------------+---------------+--------------------+------------+----------+------------------+-----+--------------------+-----------------+-----------+\n",
      "only showing top 20 rows\n",
      "\n"
     ]
    }
   ],
   "source": [
    "df_income.show()\n",
    "df_income.createOrReplaceTempView('financial_risk_table')"
   ]
  },
  {
   "cell_type": "code",
   "execution_count": 27,
   "id": "a979f425-cd89-4971-9321-3e6046788a3a",
   "metadata": {},
   "outputs": [
    {
     "name": "stdout",
     "output_type": "stream",
     "text": [
      "+-----------+-----------+\n",
      "|income_dist|total_count|\n",
      "+-----------+-----------+\n",
      "|       zero|       2250|\n",
      "|     amount|      12750|\n",
      "+-----------+-----------+\n",
      "\n"
     ]
    }
   ],
   "source": [
    "spark.sql(\"\"\"\n",
    "SELECT \n",
    "    CASE \n",
    "        WHEN Income IS NULL THEN 'missing'\n",
    "        WHEN Income = 0 THEN 'zero'\n",
    "        WHEN Income > 0 THEN 'amount'\n",
    "        ELSE 'other'\n",
    "    END AS income_dist,\n",
    "    COUNT(1) AS total_count\n",
    "FROM financial_risk_table\n",
    "GROUP BY \n",
    "    CASE \n",
    "        WHEN Income IS NULL THEN 'missing'\n",
    "        WHEN Income = 0 THEN 'zero'\n",
    "        WHEN Income > 0 THEN 'amount'\n",
    "        ELSE 'other'\n",
    "    END\n",
    "\n",
    "\"\"\").show()\n"
   ]
  },
  {
   "cell_type": "code",
   "execution_count": 28,
   "id": "029305cf-daaa-4843-b744-07f7d63f6429",
   "metadata": {},
   "outputs": [],
   "source": [
    "df_not_nulls = df_income.fillna(0.0, subset=['Loan_Amount','Credit_Score','Dependents','Previous_Defaults'])"
   ]
  },
  {
   "cell_type": "code",
   "execution_count": 29,
   "id": "7b8a5940-36d4-45cd-84a0-3661e95c5026",
   "metadata": {},
   "outputs": [
    {
     "name": "stdout",
     "output_type": "stream",
     "text": [
      "+---+----------+-------------+--------------+--------+------------+-----------+------------+-----------------+---------------+---------------+--------------------+------------+----------+------------------+-----+--------------------+-----------------+-----------+\n",
      "| id|    Gender|Qualification|Marital_status|  Income|Credit_score|Loan_Amount|Loan_Purpose|Employment_Status|Current_Job_YOE|Payment_History|Debt_to_Income_Ratio|Assets_Value|Dependents|              City|State|             Country|Previous_Defaults|Risk_Rating|\n",
      "+---+----------+-------------+--------------+--------+------------+-----------+------------+-----------------+---------------+---------------+--------------------+------------+----------+------------------+-----+--------------------+-----------------+-----------+\n",
      "|  1|      Male|           UG|       Widowed| 25605.0|       751.0|    14785.0|        Auto|       Unemployed|             17|           Fair| 0.33994669003424505|    285745.0|       3.0|      Samanthastad|   MI|               Congo|              1.0|       High|\n",
      "|  2|Non-binary|           PG|       Widowed|     0.0|       779.0|    17616.0|        Auto|         Employed|             18|      Excellent|  0.1515554246622575|    257783.0|       0.0|      New Johnland|   WA|              Jordan|              1.0|       High|\n",
      "|  3|Non-binary|           UG|       Married| 36756.0|       608.0|    13957.0|    Personal|       Unemployed|              0|           Fair| 0.15481403667787233|    245075.0|       4.0|      Port Jessica|   FL|            Tanzania|              2.0|       High|\n",
      "|  4|      Male|           PG|       Widowed| 84162.0|       606.0|     5015.0|    Business|    Self-employed|             17|           Poor|  0.3890696709800946|    275773.0|       1.0|       Amandamouth|   KS|            Cambodia|              1.0|        Low|\n",
      "|  5|    Female|           UG|        Single|117270.0|       639.0|    12351.0|    Business|    Self-employed|              1|           Poor|  0.1654573496046464|    186272.0|       4.0|       Donaldville|   HI|               Egypt|              3.0|     Medium|\n",
      "|  6|Non-binary|           PG|        Single|     0.0|       651.0|    18653.0|        Home|    Self-employed|             16|           Good| 0.49222995000773917|    226806.0|       0.0|       Curtisville|   PW|             Mayotte|              3.0|       High|\n",
      "|  7|Non-binary|           PG|      Divorced|     0.0|         0.0|    32113.0|        Home|         Employed|              2|      Excellent| 0.15963381099114013|     50047.0|       3.0|        Joneshaven|   MN|              Kuwait|              2.0|     Medium|\n",
      "|  8|    Female|           PG|      Divorced|     0.0|       748.0|    14522.0|        Home|       Unemployed|             14|           Good|  0.5628099578361062|    176629.0|       0.0|      Campbellfort|   AL|               China|              1.0|        Low|\n",
      "|  9|    Female|           PG|       Married| 45187.0|       626.0|    35335.0|    Business|    Self-employed|              6|      Excellent| 0.34850421550255795|     96908.0|       4.0|      Port Antonio|   WY|              Brazil|              0.0|     Medium|\n",
      "| 10|Non-binary|           HS|      Divorced| 27313.0|       786.0|    24399.0|        Auto|    Self-employed|             10|      Excellent|  0.1510468100347879|    284643.0|       4.0|       Traceyshire|   FL|     North Macedonia|              0.0|        Low|\n",
      "| 11|      Male|           HS|       Married| 77154.0|       726.0|        0.0|        Home|    Self-employed|              7|           Good|  0.2279881245447676|    281128.0|       2.0|  East Thomasmouth|   MN|           Hong Kong|              2.0|        Low|\n",
      "| 12|Non-binary|           PG|       Widowed| 71500.0|       734.0|    44400.0|    Personal|    Self-employed|             14|      Excellent| 0.24810419892321986|    127985.0|       4.0|        Dustinbury|   CT|              Malawi|              0.0|        Low|\n",
      "| 13|      Male|           HS|      Divorced| 41788.0|       656.0|    41755.0|        Home|         Employed|             17|           Poor|  0.2574316877026943|    161590.0|       0.0|   West Danielland|   MA|     Kyrgyz Republic|              1.0|     Medium|\n",
      "| 14|      Male|          PhD|       Married| 80378.0|       639.0|    31920.0|    Business|         Employed|             11|           Good| 0.12484854148582583|    214743.0|       3.0|    South Amymouth|   IA|               Macao|              3.0|     Medium|\n",
      "| 15|    Female|           UG|      Divorced| 22774.0|       603.0|    42803.0|        Home|         Employed|              1|      Excellent|  0.4430711586017164|        NULL|       2.0|       Josephmouth|   WY|             Reunion|              3.0|     Medium|\n",
      "| 16|    Female|           HS|       Widowed|116604.0|         0.0|        0.0|        Auto|         Employed|             11|           Good|  0.5675990092599666|     85418.0|       0.0|       West Kimton|   CT|              Zambia|              0.0|     Medium|\n",
      "| 17|Non-binary|           UG|       Married| 73140.0|       621.0|    29726.0|    Business|       Unemployed|              5|           Fair|  0.3763911109004887|     86124.0|       2.0|        Fowlerport|   GU|Central African R...|              2.0|     Medium|\n",
      "| 18|      Male|           UG|      Divorced| 63578.0|       681.0|    26888.0|    Business|         Employed|             12|           Fair| 0.10171080242950517|     49558.0|       2.0|North Shannonmouth|   IA|           Venezuela|              4.0|        Low|\n",
      "| 19|    Female|           PG|        Single|     0.0|       642.0|        0.0|    Personal|    Self-employed|             12|           Poor|  0.3699720501674575|    198426.0|       3.0|      Lake Charles|   GU|            Honduras|              0.0|        Low|\n",
      "| 20|Non-binary|           HS|      Divorced| 65344.0|       724.0|        0.0|    Business|         Employed|              2|      Excellent| 0.18053225665211273|     77683.0|       3.0|     Christineside|   MH|              Angola|              4.0|        Low|\n",
      "+---+----------+-------------+--------------+--------+------------+-----------+------------+-----------------+---------------+---------------+--------------------+------------+----------+------------------+-----+--------------------+-----------------+-----------+\n",
      "only showing top 20 rows\n",
      "\n"
     ]
    }
   ],
   "source": [
    "df_not_nulls.show()"
   ]
  },
  {
   "cell_type": "code",
   "execution_count": 30,
   "id": "88b55d9b-a76d-4d53-9ea4-e54284499db2",
   "metadata": {},
   "outputs": [],
   "source": [
    "df_main_final_1 = df_not_nulls \\\n",
    "    .withColumn(\"Dependents\", col(\"Dependents\").cast(\"int\")) \\\n",
    "    .withColumn(\"Previous_Defaults\", col(\"Previous_Defaults\").cast(\"int\"))"
   ]
  },
  {
   "cell_type": "code",
   "execution_count": 31,
   "id": "acf6a22e-92e9-4216-a5c4-fc22dbfb75ef",
   "metadata": {},
   "outputs": [
    {
     "name": "stdout",
     "output_type": "stream",
     "text": [
      "+---+----------+-------------+--------------+--------+------------+-----------+------------+-----------------+---------------+---------------+--------------------+------------+----------+------------------+-----+--------------------+-----------------+-----------+\n",
      "| id|    Gender|Qualification|Marital_status|  Income|Credit_score|Loan_Amount|Loan_Purpose|Employment_Status|Current_Job_YOE|Payment_History|Debt_to_Income_Ratio|Assets_Value|Dependents|              City|State|             Country|Previous_Defaults|Risk_Rating|\n",
      "+---+----------+-------------+--------------+--------+------------+-----------+------------+-----------------+---------------+---------------+--------------------+------------+----------+------------------+-----+--------------------+-----------------+-----------+\n",
      "|  1|      Male|           UG|       Widowed| 25605.0|       751.0|    14785.0|        Auto|       Unemployed|             17|           Fair| 0.33994669003424505|    285745.0|         3|      Samanthastad|   MI|               Congo|                1|       High|\n",
      "|  2|Non-binary|           PG|       Widowed|     0.0|       779.0|    17616.0|        Auto|         Employed|             18|      Excellent|  0.1515554246622575|    257783.0|         0|      New Johnland|   WA|              Jordan|                1|       High|\n",
      "|  3|Non-binary|           UG|       Married| 36756.0|       608.0|    13957.0|    Personal|       Unemployed|              0|           Fair| 0.15481403667787233|    245075.0|         4|      Port Jessica|   FL|            Tanzania|                2|       High|\n",
      "|  4|      Male|           PG|       Widowed| 84162.0|       606.0|     5015.0|    Business|    Self-employed|             17|           Poor|  0.3890696709800946|    275773.0|         1|       Amandamouth|   KS|            Cambodia|                1|        Low|\n",
      "|  5|    Female|           UG|        Single|117270.0|       639.0|    12351.0|    Business|    Self-employed|              1|           Poor|  0.1654573496046464|    186272.0|         4|       Donaldville|   HI|               Egypt|                3|     Medium|\n",
      "|  6|Non-binary|           PG|        Single|     0.0|       651.0|    18653.0|        Home|    Self-employed|             16|           Good| 0.49222995000773917|    226806.0|         0|       Curtisville|   PW|             Mayotte|                3|       High|\n",
      "|  7|Non-binary|           PG|      Divorced|     0.0|         0.0|    32113.0|        Home|         Employed|              2|      Excellent| 0.15963381099114013|     50047.0|         3|        Joneshaven|   MN|              Kuwait|                2|     Medium|\n",
      "|  8|    Female|           PG|      Divorced|     0.0|       748.0|    14522.0|        Home|       Unemployed|             14|           Good|  0.5628099578361062|    176629.0|         0|      Campbellfort|   AL|               China|                1|        Low|\n",
      "|  9|    Female|           PG|       Married| 45187.0|       626.0|    35335.0|    Business|    Self-employed|              6|      Excellent| 0.34850421550255795|     96908.0|         4|      Port Antonio|   WY|              Brazil|                0|     Medium|\n",
      "| 10|Non-binary|           HS|      Divorced| 27313.0|       786.0|    24399.0|        Auto|    Self-employed|             10|      Excellent|  0.1510468100347879|    284643.0|         4|       Traceyshire|   FL|     North Macedonia|                0|        Low|\n",
      "| 11|      Male|           HS|       Married| 77154.0|       726.0|        0.0|        Home|    Self-employed|              7|           Good|  0.2279881245447676|    281128.0|         2|  East Thomasmouth|   MN|           Hong Kong|                2|        Low|\n",
      "| 12|Non-binary|           PG|       Widowed| 71500.0|       734.0|    44400.0|    Personal|    Self-employed|             14|      Excellent| 0.24810419892321986|    127985.0|         4|        Dustinbury|   CT|              Malawi|                0|        Low|\n",
      "| 13|      Male|           HS|      Divorced| 41788.0|       656.0|    41755.0|        Home|         Employed|             17|           Poor|  0.2574316877026943|    161590.0|         0|   West Danielland|   MA|     Kyrgyz Republic|                1|     Medium|\n",
      "| 14|      Male|          PhD|       Married| 80378.0|       639.0|    31920.0|    Business|         Employed|             11|           Good| 0.12484854148582583|    214743.0|         3|    South Amymouth|   IA|               Macao|                3|     Medium|\n",
      "| 15|    Female|           UG|      Divorced| 22774.0|       603.0|    42803.0|        Home|         Employed|              1|      Excellent|  0.4430711586017164|        NULL|         2|       Josephmouth|   WY|             Reunion|                3|     Medium|\n",
      "| 16|    Female|           HS|       Widowed|116604.0|         0.0|        0.0|        Auto|         Employed|             11|           Good|  0.5675990092599666|     85418.0|         0|       West Kimton|   CT|              Zambia|                0|     Medium|\n",
      "| 17|Non-binary|           UG|       Married| 73140.0|       621.0|    29726.0|    Business|       Unemployed|              5|           Fair|  0.3763911109004887|     86124.0|         2|        Fowlerport|   GU|Central African R...|                2|     Medium|\n",
      "| 18|      Male|           UG|      Divorced| 63578.0|       681.0|    26888.0|    Business|         Employed|             12|           Fair| 0.10171080242950517|     49558.0|         2|North Shannonmouth|   IA|           Venezuela|                4|        Low|\n",
      "| 19|    Female|           PG|        Single|     0.0|       642.0|        0.0|    Personal|    Self-employed|             12|           Poor|  0.3699720501674575|    198426.0|         3|      Lake Charles|   GU|            Honduras|                0|        Low|\n",
      "| 20|Non-binary|           HS|      Divorced| 65344.0|       724.0|        0.0|    Business|         Employed|              2|      Excellent| 0.18053225665211273|     77683.0|         3|     Christineside|   MH|              Angola|                4|        Low|\n",
      "+---+----------+-------------+--------------+--------+------------+-----------+------------+-----------------+---------------+---------------+--------------------+------------+----------+------------------+-----+--------------------+-----------------+-----------+\n",
      "only showing top 20 rows\n",
      "\n"
     ]
    }
   ],
   "source": [
    "df_main_final_1.show()"
   ]
  },
  {
   "cell_type": "code",
   "execution_count": 32,
   "id": "dca5c5a3-5dc5-4548-9a0d-eb0b9a9b6140",
   "metadata": {},
   "outputs": [],
   "source": [
    "df_main_final_2 = df_main_final_1.withColumn('Credit_score',col('Credit_score').cast('int'))"
   ]
  },
  {
   "cell_type": "code",
   "execution_count": 33,
   "id": "a575c5b0-5530-4ef2-9497-107b88896084",
   "metadata": {},
   "outputs": [
    {
     "name": "stdout",
     "output_type": "stream",
     "text": [
      "+---+----------+-------------+--------------+--------+------------+-----------+------------+-----------------+---------------+---------------+--------------------+------------+----------+------------------+-----+--------------------+-----------------+-----------+\n",
      "| id|    Gender|Qualification|Marital_status|  Income|Credit_score|Loan_Amount|Loan_Purpose|Employment_Status|Current_Job_YOE|Payment_History|Debt_to_Income_Ratio|Assets_Value|Dependents|              City|State|             Country|Previous_Defaults|Risk_Rating|\n",
      "+---+----------+-------------+--------------+--------+------------+-----------+------------+-----------------+---------------+---------------+--------------------+------------+----------+------------------+-----+--------------------+-----------------+-----------+\n",
      "|  1|      Male|           UG|       Widowed| 25605.0|         751|    14785.0|        Auto|       Unemployed|             17|           Fair| 0.33994669003424505|    285745.0|         3|      Samanthastad|   MI|               Congo|                1|       High|\n",
      "|  2|Non-binary|           PG|       Widowed|     0.0|         779|    17616.0|        Auto|         Employed|             18|      Excellent|  0.1515554246622575|    257783.0|         0|      New Johnland|   WA|              Jordan|                1|       High|\n",
      "|  3|Non-binary|           UG|       Married| 36756.0|         608|    13957.0|    Personal|       Unemployed|              0|           Fair| 0.15481403667787233|    245075.0|         4|      Port Jessica|   FL|            Tanzania|                2|       High|\n",
      "|  4|      Male|           PG|       Widowed| 84162.0|         606|     5015.0|    Business|    Self-employed|             17|           Poor|  0.3890696709800946|    275773.0|         1|       Amandamouth|   KS|            Cambodia|                1|        Low|\n",
      "|  5|    Female|           UG|        Single|117270.0|         639|    12351.0|    Business|    Self-employed|              1|           Poor|  0.1654573496046464|    186272.0|         4|       Donaldville|   HI|               Egypt|                3|     Medium|\n",
      "|  6|Non-binary|           PG|        Single|     0.0|         651|    18653.0|        Home|    Self-employed|             16|           Good| 0.49222995000773917|    226806.0|         0|       Curtisville|   PW|             Mayotte|                3|       High|\n",
      "|  7|Non-binary|           PG|      Divorced|     0.0|           0|    32113.0|        Home|         Employed|              2|      Excellent| 0.15963381099114013|     50047.0|         3|        Joneshaven|   MN|              Kuwait|                2|     Medium|\n",
      "|  8|    Female|           PG|      Divorced|     0.0|         748|    14522.0|        Home|       Unemployed|             14|           Good|  0.5628099578361062|    176629.0|         0|      Campbellfort|   AL|               China|                1|        Low|\n",
      "|  9|    Female|           PG|       Married| 45187.0|         626|    35335.0|    Business|    Self-employed|              6|      Excellent| 0.34850421550255795|     96908.0|         4|      Port Antonio|   WY|              Brazil|                0|     Medium|\n",
      "| 10|Non-binary|           HS|      Divorced| 27313.0|         786|    24399.0|        Auto|    Self-employed|             10|      Excellent|  0.1510468100347879|    284643.0|         4|       Traceyshire|   FL|     North Macedonia|                0|        Low|\n",
      "| 11|      Male|           HS|       Married| 77154.0|         726|        0.0|        Home|    Self-employed|              7|           Good|  0.2279881245447676|    281128.0|         2|  East Thomasmouth|   MN|           Hong Kong|                2|        Low|\n",
      "| 12|Non-binary|           PG|       Widowed| 71500.0|         734|    44400.0|    Personal|    Self-employed|             14|      Excellent| 0.24810419892321986|    127985.0|         4|        Dustinbury|   CT|              Malawi|                0|        Low|\n",
      "| 13|      Male|           HS|      Divorced| 41788.0|         656|    41755.0|        Home|         Employed|             17|           Poor|  0.2574316877026943|    161590.0|         0|   West Danielland|   MA|     Kyrgyz Republic|                1|     Medium|\n",
      "| 14|      Male|          PhD|       Married| 80378.0|         639|    31920.0|    Business|         Employed|             11|           Good| 0.12484854148582583|    214743.0|         3|    South Amymouth|   IA|               Macao|                3|     Medium|\n",
      "| 15|    Female|           UG|      Divorced| 22774.0|         603|    42803.0|        Home|         Employed|              1|      Excellent|  0.4430711586017164|        NULL|         2|       Josephmouth|   WY|             Reunion|                3|     Medium|\n",
      "| 16|    Female|           HS|       Widowed|116604.0|           0|        0.0|        Auto|         Employed|             11|           Good|  0.5675990092599666|     85418.0|         0|       West Kimton|   CT|              Zambia|                0|     Medium|\n",
      "| 17|Non-binary|           UG|       Married| 73140.0|         621|    29726.0|    Business|       Unemployed|              5|           Fair|  0.3763911109004887|     86124.0|         2|        Fowlerport|   GU|Central African R...|                2|     Medium|\n",
      "| 18|      Male|           UG|      Divorced| 63578.0|         681|    26888.0|    Business|         Employed|             12|           Fair| 0.10171080242950517|     49558.0|         2|North Shannonmouth|   IA|           Venezuela|                4|        Low|\n",
      "| 19|    Female|           PG|        Single|     0.0|         642|        0.0|    Personal|    Self-employed|             12|           Poor|  0.3699720501674575|    198426.0|         3|      Lake Charles|   GU|            Honduras|                0|        Low|\n",
      "| 20|Non-binary|           HS|      Divorced| 65344.0|         724|        0.0|    Business|         Employed|              2|      Excellent| 0.18053225665211273|     77683.0|         3|     Christineside|   MH|              Angola|                4|        Low|\n",
      "+---+----------+-------------+--------------+--------+------------+-----------+------------+-----------------+---------------+---------------+--------------------+------------+----------+------------------+-----+--------------------+-----------------+-----------+\n",
      "only showing top 20 rows\n",
      "\n"
     ]
    }
   ],
   "source": [
    "df_main_final_2.show()"
   ]
  },
  {
   "cell_type": "code",
   "execution_count": 34,
   "id": "4ed5d9e4-5e33-441b-8003-13d69e4defb7",
   "metadata": {},
   "outputs": [
    {
     "name": "stdout",
     "output_type": "stream",
     "text": [
      "+---+----------+-------------+--------------+--------+------------+-----------+------------+-----------------+---------------+---------------+--------------------+------------+----------+------------+-----+--------------------+-----------------+-----------+\n",
      "| id|    Gender|Qualification|Marital_status|  Income|Credit_score|Loan_Amount|Loan_Purpose|Employment_Status|Current_Job_YOE|Payment_History|Debt_to_Income_Ratio|Assets_Value|Dependents|        City|State|             Country|Previous_Defaults|Risk_Rating|\n",
      "+---+----------+-------------+--------------+--------+------------+-----------+------------+-----------------+---------------+---------------+--------------------+------------+----------+------------+-----+--------------------+-----------------+-----------+\n",
      "|  1|Non-binary|           PG|        Single|     0.0|         651|    18653.0|        Home|    Self-employed|             16|           Good| 0.49222995000773917|    226806.0|         0| Curtisville|   PW|             Mayotte|                3|       High|\n",
      "|  2|Non-binary|           HS|      Divorced| 27313.0|         786|    24399.0|        Auto|    Self-employed|             10|      Excellent|  0.1510468100347879|    284643.0|         4| Traceyshire|   FL|     North Macedonia|                0|        Low|\n",
      "|  3|Non-binary|          PhD|      Divorced|107329.0|         735|    22694.0|        Home|    Self-employed|              1|           Poor|   0.232809019850618|     71327.0|         4|East Michael|   MP|Netherlands Antilles|                0|        Low|\n",
      "+---+----------+-------------+--------------+--------+------------+-----------+------------+-----------------+---------------+---------------+--------------------+------------+----------+------------+-----+--------------------+-----------------+-----------+\n",
      "only showing top 3 rows\n",
      "\n"
     ]
    }
   ],
   "source": [
    "df_main_final_2.filter(col(\"Income\") == 0.0).count()\n",
    "df_main_final_2.filter(col('Credit_score') == 0).count()\n",
    "df_main_before_drop_junk = df_main_final_2\n",
    "\n",
    "df_main_before_drop_junk.show(3)\n"
   ]
  },
  {
   "cell_type": "code",
   "execution_count": 35,
   "id": "708b9f5d-8f99-426c-b88a-ecd4741ff315",
   "metadata": {},
   "outputs": [],
   "source": [
    "df_dropped_junk = df_main_final_2.filter(\n",
    "    (col(\"Income\") != 0) & (col(\"Credit_score\") != 0))"
   ]
  },
  {
   "cell_type": "code",
   "execution_count": 36,
   "id": "92bec31c-6991-4df7-84df-ed985f1f7435",
   "metadata": {},
   "outputs": [
    {
     "name": "stdout",
     "output_type": "stream",
     "text": [
      "+---+----------+-------------+--------------+--------+------------+-----------+------------+-----------------+---------------+---------------+--------------------+------------+----------+------------------+-----+--------------------+-----------------+-----------+\n",
      "| id|    Gender|Qualification|Marital_status|  Income|Credit_score|Loan_Amount|Loan_Purpose|Employment_Status|Current_Job_YOE|Payment_History|Debt_to_Income_Ratio|Assets_Value|Dependents|              City|State|             Country|Previous_Defaults|Risk_Rating|\n",
      "+---+----------+-------------+--------------+--------+------------+-----------+------------+-----------------+---------------+---------------+--------------------+------------+----------+------------------+-----+--------------------+-----------------+-----------+\n",
      "|  2|    Female|           PG|       Widowed|102628.0|         654|    25442.0|        Home|       Unemployed|              8|           Poor|  0.1618325788225118|        NULL|         3|      West Patrick|   IA|              Taiwan|                1|     Medium|\n",
      "|  5|Non-binary|          PhD|      Divorced|107329.0|         735|    22694.0|        Home|    Self-employed|              1|           Poor|   0.232809019850618|     71327.0|         4|      East Michael|   MP|Netherlands Antilles|                0|        Low|\n",
      "|  7|Non-binary|           HS|      Divorced| 27313.0|         786|    24399.0|        Auto|    Self-employed|             10|      Excellent|  0.1510468100347879|    284643.0|         4|       Traceyshire|   FL|     North Macedonia|                0|        Low|\n",
      "|  8|Non-binary|           HS|       Widowed| 99671.0|         669|    30460.0|    Personal|       Unemployed|             18|           Poor|  0.4338122306863922|     25531.0|         1| Jacquelineborough|   MP|              Greece|                1|     Medium|\n",
      "|  9|Non-binary|           PG|       Widowed| 71500.0|         734|    44400.0|    Personal|    Self-employed|             14|      Excellent| 0.24810419892321986|    127985.0|         4|        Dustinbury|   CT|              Malawi|                0|        Low|\n",
      "| 10|      Male|           PG|       Widowed| 84162.0|         606|     5015.0|    Business|    Self-employed|             17|           Poor|  0.3890696709800946|    275773.0|         1|       Amandamouth|   KS|            Cambodia|                1|        Low|\n",
      "| 12|      Male|          PhD|       Married| 80378.0|         639|    31920.0|    Business|         Employed|             11|           Good| 0.12484854148582583|    214743.0|         3|    South Amymouth|   IA|               Macao|                3|     Medium|\n",
      "| 15|Non-binary|          PhD|       Married|108644.0|         766|    45358.0|        Auto|    Self-employed|             15|           Poor| 0.48801635062349535|        NULL|         0|     North Francis|   IN|               Korea|                1|        Low|\n",
      "| 16|      Male|           UG|      Divorced| 63578.0|         681|    26888.0|    Business|         Employed|             12|           Fair| 0.10171080242950517|     49558.0|         2|North Shannonmouth|   IA|           Venezuela|                4|        Low|\n",
      "| 17|      Male|           PG|       Widowed| 27312.0|         777|    26528.0|        Home|    Self-employed|              5|      Excellent| 0.21617348489118102|    264157.0|         3|     East Benjamin|   NC|               Palau|                1|        Low|\n",
      "| 18|Non-binary|           HS|      Divorced| 65344.0|         724|        0.0|    Business|         Employed|              2|      Excellent| 0.18053225665211273|     77683.0|         3|     Christineside|   MH|              Angola|                4|        Low|\n",
      "| 19|      Male|           HS|       Married|118550.0|         753|    17210.0|        Auto|         Employed|              0|           Good|  0.1721926803992759|    258358.0|         3| West Kevinborough|   TX|          Tajikistan|                1|       High|\n",
      "| 20|      Male|           UG|       Widowed| 25605.0|         751|    14785.0|        Auto|       Unemployed|             17|           Fair| 0.33994669003424505|    285745.0|         3|      Samanthastad|   MI|               Congo|                1|       High|\n",
      "| 21|Non-binary|           UG|       Married| 36756.0|         608|    13957.0|    Personal|       Unemployed|              0|           Fair| 0.15481403667787233|    245075.0|         4|      Port Jessica|   FL|            Tanzania|                2|       High|\n",
      "| 22|    Female|           UG|        Single|117270.0|         639|    12351.0|    Business|    Self-employed|              1|           Poor|  0.1654573496046464|    186272.0|         4|       Donaldville|   HI|               Egypt|                3|     Medium|\n",
      "| 24|    Female|           PG|       Married| 45187.0|         626|    35335.0|    Business|    Self-employed|              6|      Excellent| 0.34850421550255795|     96908.0|         4|      Port Antonio|   WY|              Brazil|                0|     Medium|\n",
      "| 25|      Male|           HS|       Married| 77154.0|         726|        0.0|        Home|    Self-employed|              7|           Good|  0.2279881245447676|    281128.0|         2|  East Thomasmouth|   MN|           Hong Kong|                2|        Low|\n",
      "| 26|      Male|           HS|      Divorced| 41788.0|         656|    41755.0|        Home|         Employed|             17|           Poor|  0.2574316877026943|    161590.0|         0|   West Danielland|   MA|     Kyrgyz Republic|                1|     Medium|\n",
      "| 27|    Female|           UG|      Divorced| 22774.0|         603|    42803.0|        Home|         Employed|              1|      Excellent|  0.4430711586017164|        NULL|         2|       Josephmouth|   WY|             Reunion|                3|     Medium|\n",
      "| 28|Non-binary|           UG|       Married| 73140.0|         621|    29726.0|    Business|       Unemployed|              5|           Fair|  0.3763911109004887|     86124.0|         2|        Fowlerport|   GU|Central African R...|                2|     Medium|\n",
      "+---+----------+-------------+--------------+--------+------------+-----------+------------+-----------------+---------------+---------------+--------------------+------------+----------+------------------+-----+--------------------+-----------------+-----------+\n",
      "only showing top 20 rows\n",
      "\n"
     ]
    }
   ],
   "source": [
    "df_dropped_junk.show()"
   ]
  },
  {
   "cell_type": "code",
   "execution_count": 37,
   "id": "06b00e90-924a-46be-8b57-db90397c08d1",
   "metadata": {},
   "outputs": [],
   "source": [
    "from pyspark.sql.types import DecimalType\n",
    "\n",
    "df_main_3 = df_dropped_junk.withColumn(\"Debt_to_Income_Ratio\", col(\"Debt_to_Income_Ratio\").cast(DecimalType(10, 3))) \\\n",
    "                            .withColumn('Income',col('Income').cast(DecimalType(10,3))) \\\n",
    "                            .withColumn('Loan_Amount',col('Loan_Amount').cast(DecimalType(10,3))) \\\n",
    "                            .withColumn('Assets_Value',col('Assets_Value').cast(DecimalType(10,3)))\n"
   ]
  },
  {
   "cell_type": "code",
   "execution_count": 38,
   "id": "8b49e21e-c2f3-4ae5-bc91-7da3f4171328",
   "metadata": {},
   "outputs": [
    {
     "name": "stdout",
     "output_type": "stream",
     "text": [
      "+---+----------+-------------+--------------+----------+------------+-----------+------------+-----------------+---------------+---------------+--------------------+------------+----------+------------------+-----+--------------------+-----------------+-----------+\n",
      "| id|    Gender|Qualification|Marital_status|    Income|Credit_score|Loan_Amount|Loan_Purpose|Employment_Status|Current_Job_YOE|Payment_History|Debt_to_Income_Ratio|Assets_Value|Dependents|              City|State|             Country|Previous_Defaults|Risk_Rating|\n",
      "+---+----------+-------------+--------------+----------+------------+-----------+------------+-----------------+---------------+---------------+--------------------+------------+----------+------------------+-----+--------------------+-----------------+-----------+\n",
      "|  2|    Female|           PG|       Widowed|102628.000|         654|  25442.000|        Home|       Unemployed|              8|           Poor|               0.162|        NULL|         3|      West Patrick|   IA|              Taiwan|                1|     Medium|\n",
      "|  5|Non-binary|          PhD|      Divorced|107329.000|         735|  22694.000|        Home|    Self-employed|              1|           Poor|               0.233|   71327.000|         4|      East Michael|   MP|Netherlands Antilles|                0|        Low|\n",
      "|  7|Non-binary|           HS|      Divorced| 27313.000|         786|  24399.000|        Auto|    Self-employed|             10|      Excellent|               0.151|  284643.000|         4|       Traceyshire|   FL|     North Macedonia|                0|        Low|\n",
      "|  8|Non-binary|           HS|       Widowed| 99671.000|         669|  30460.000|    Personal|       Unemployed|             18|           Poor|               0.434|   25531.000|         1| Jacquelineborough|   MP|              Greece|                1|     Medium|\n",
      "|  9|Non-binary|           PG|       Widowed| 71500.000|         734|  44400.000|    Personal|    Self-employed|             14|      Excellent|               0.248|  127985.000|         4|        Dustinbury|   CT|              Malawi|                0|        Low|\n",
      "| 10|      Male|           PG|       Widowed| 84162.000|         606|   5015.000|    Business|    Self-employed|             17|           Poor|               0.389|  275773.000|         1|       Amandamouth|   KS|            Cambodia|                1|        Low|\n",
      "| 12|      Male|          PhD|       Married| 80378.000|         639|  31920.000|    Business|         Employed|             11|           Good|               0.125|  214743.000|         3|    South Amymouth|   IA|               Macao|                3|     Medium|\n",
      "| 15|Non-binary|          PhD|       Married|108644.000|         766|  45358.000|        Auto|    Self-employed|             15|           Poor|               0.488|        NULL|         0|     North Francis|   IN|               Korea|                1|        Low|\n",
      "| 16|      Male|           UG|      Divorced| 63578.000|         681|  26888.000|    Business|         Employed|             12|           Fair|               0.102|   49558.000|         2|North Shannonmouth|   IA|           Venezuela|                4|        Low|\n",
      "| 17|      Male|           PG|       Widowed| 27312.000|         777|  26528.000|        Home|    Self-employed|              5|      Excellent|               0.216|  264157.000|         3|     East Benjamin|   NC|               Palau|                1|        Low|\n",
      "| 18|Non-binary|           HS|      Divorced| 65344.000|         724|      0.000|    Business|         Employed|              2|      Excellent|               0.181|   77683.000|         3|     Christineside|   MH|              Angola|                4|        Low|\n",
      "| 19|      Male|           HS|       Married|118550.000|         753|  17210.000|        Auto|         Employed|              0|           Good|               0.172|  258358.000|         3| West Kevinborough|   TX|          Tajikistan|                1|       High|\n",
      "| 20|      Male|           UG|       Widowed| 25605.000|         751|  14785.000|        Auto|       Unemployed|             17|           Fair|               0.340|  285745.000|         3|      Samanthastad|   MI|               Congo|                1|       High|\n",
      "| 21|Non-binary|           UG|       Married| 36756.000|         608|  13957.000|    Personal|       Unemployed|              0|           Fair|               0.155|  245075.000|         4|      Port Jessica|   FL|            Tanzania|                2|       High|\n",
      "+---+----------+-------------+--------------+----------+------------+-----------+------------+-----------------+---------------+---------------+--------------------+------------+----------+------------------+-----+--------------------+-----------------+-----------+\n",
      "only showing top 14 rows\n",
      "\n"
     ]
    }
   ],
   "source": [
    "df_main_3.show(14)"
   ]
  },
  {
   "cell_type": "code",
   "execution_count": 39,
   "id": "c2fbd40c-d00b-4a86-b300-740486cbcbc7",
   "metadata": {},
   "outputs": [],
   "source": [
    "df_final = df_main_3.fillna(0.000,subset = ['Assets_Value'])"
   ]
  },
  {
   "cell_type": "code",
   "execution_count": 40,
   "id": "b7528218-2ea5-464d-9c02-133224dc2ddc",
   "metadata": {},
   "outputs": [
    {
     "name": "stdout",
     "output_type": "stream",
     "text": [
      "+---+----------+-------------+--------------+----------+------------+-----------+------------+-----------------+---------------+---------------+--------------------+------------+----------+------------------+-----+--------------------+-----------------+-----------+\n",
      "| id|    Gender|Qualification|Marital_status|    Income|Credit_score|Loan_Amount|Loan_Purpose|Employment_Status|Current_Job_YOE|Payment_History|Debt_to_Income_Ratio|Assets_Value|Dependents|              City|State|             Country|Previous_Defaults|Risk_Rating|\n",
      "+---+----------+-------------+--------------+----------+------------+-----------+------------+-----------------+---------------+---------------+--------------------+------------+----------+------------------+-----+--------------------+-----------------+-----------+\n",
      "|  2|    Female|           PG|       Widowed|102628.000|         654|  25442.000|        Home|       Unemployed|              8|           Poor|               0.162|       0.000|         3|      West Patrick|   IA|              Taiwan|                1|     Medium|\n",
      "|  5|Non-binary|          PhD|      Divorced|107329.000|         735|  22694.000|        Home|    Self-employed|              1|           Poor|               0.233|   71327.000|         4|      East Michael|   MP|Netherlands Antilles|                0|        Low|\n",
      "|  7|Non-binary|           HS|      Divorced| 27313.000|         786|  24399.000|        Auto|    Self-employed|             10|      Excellent|               0.151|  284643.000|         4|       Traceyshire|   FL|     North Macedonia|                0|        Low|\n",
      "|  8|Non-binary|           HS|       Widowed| 99671.000|         669|  30460.000|    Personal|       Unemployed|             18|           Poor|               0.434|   25531.000|         1| Jacquelineborough|   MP|              Greece|                1|     Medium|\n",
      "|  9|Non-binary|           PG|       Widowed| 71500.000|         734|  44400.000|    Personal|    Self-employed|             14|      Excellent|               0.248|  127985.000|         4|        Dustinbury|   CT|              Malawi|                0|        Low|\n",
      "| 10|      Male|           PG|       Widowed| 84162.000|         606|   5015.000|    Business|    Self-employed|             17|           Poor|               0.389|  275773.000|         1|       Amandamouth|   KS|            Cambodia|                1|        Low|\n",
      "| 12|      Male|          PhD|       Married| 80378.000|         639|  31920.000|    Business|         Employed|             11|           Good|               0.125|  214743.000|         3|    South Amymouth|   IA|               Macao|                3|     Medium|\n",
      "| 15|Non-binary|          PhD|       Married|108644.000|         766|  45358.000|        Auto|    Self-employed|             15|           Poor|               0.488|       0.000|         0|     North Francis|   IN|               Korea|                1|        Low|\n",
      "| 16|      Male|           UG|      Divorced| 63578.000|         681|  26888.000|    Business|         Employed|             12|           Fair|               0.102|   49558.000|         2|North Shannonmouth|   IA|           Venezuela|                4|        Low|\n",
      "+---+----------+-------------+--------------+----------+------------+-----------+------------+-----------------+---------------+---------------+--------------------+------------+----------+------------------+-----+--------------------+-----------------+-----------+\n",
      "only showing top 9 rows\n",
      "\n"
     ]
    }
   ],
   "source": [
    "df_final.show(9)"
   ]
  },
  {
   "cell_type": "code",
   "execution_count": 41,
   "id": "902ea574-b642-43c3-b6ce-e3a6ab56f58a",
   "metadata": {},
   "outputs": [],
   "source": [
    "df_final.write.mode(\"overwrite\").parquet(\"Norm_financial_risk\")"
   ]
  },
  {
   "cell_type": "code",
   "execution_count": 42,
   "id": "45580a91-cdaa-4d84-8a91-21ec5c6f1924",
   "metadata": {},
   "outputs": [],
   "source": [
    "df_parquet_file = spark.read.parquet('Norm_financial_risk',header=True,inferschema=True)"
   ]
  },
  {
   "cell_type": "code",
   "execution_count": 44,
   "id": "595d072f-0486-42ca-9e8d-ec6a6dea9eb1",
   "metadata": {},
   "outputs": [
    {
     "name": "stdout",
     "output_type": "stream",
     "text": [
      "+---+----------+-------------+--------------+----------+------------+-----------+------------+-----------------+---------------+---------------+--------------------+------------+----------+------------------+-----+--------------------+-----------------+-----------+\n",
      "| id|    Gender|Qualification|Marital_status|    Income|Credit_score|Loan_Amount|Loan_Purpose|Employment_Status|Current_Job_YOE|Payment_History|Debt_to_Income_Ratio|Assets_Value|Dependents|              City|State|             Country|Previous_Defaults|Risk_Rating|\n",
      "+---+----------+-------------+--------------+----------+------------+-----------+------------+-----------------+---------------+---------------+--------------------+------------+----------+------------------+-----+--------------------+-----------------+-----------+\n",
      "|  2|    Female|           PG|       Widowed|102628.000|         654|  25442.000|        Home|       Unemployed|              8|           Poor|               0.162|       0.000|         3|      West Patrick|   IA|              Taiwan|                1|     Medium|\n",
      "|  5|Non-binary|          PhD|      Divorced|107329.000|         735|  22694.000|        Home|    Self-employed|              1|           Poor|               0.233|   71327.000|         4|      East Michael|   MP|Netherlands Antilles|                0|        Low|\n",
      "|  7|Non-binary|           HS|      Divorced| 27313.000|         786|  24399.000|        Auto|    Self-employed|             10|      Excellent|               0.151|  284643.000|         4|       Traceyshire|   FL|     North Macedonia|                0|        Low|\n",
      "|  8|Non-binary|           HS|       Widowed| 99671.000|         669|  30460.000|    Personal|       Unemployed|             18|           Poor|               0.434|   25531.000|         1| Jacquelineborough|   MP|              Greece|                1|     Medium|\n",
      "|  9|Non-binary|           PG|       Widowed| 71500.000|         734|  44400.000|    Personal|    Self-employed|             14|      Excellent|               0.248|  127985.000|         4|        Dustinbury|   CT|              Malawi|                0|        Low|\n",
      "| 10|      Male|           PG|       Widowed| 84162.000|         606|   5015.000|    Business|    Self-employed|             17|           Poor|               0.389|  275773.000|         1|       Amandamouth|   KS|            Cambodia|                1|        Low|\n",
      "| 12|      Male|          PhD|       Married| 80378.000|         639|  31920.000|    Business|         Employed|             11|           Good|               0.125|  214743.000|         3|    South Amymouth|   IA|               Macao|                3|     Medium|\n",
      "| 15|Non-binary|          PhD|       Married|108644.000|         766|  45358.000|        Auto|    Self-employed|             15|           Poor|               0.488|       0.000|         0|     North Francis|   IN|               Korea|                1|        Low|\n",
      "| 16|      Male|           UG|      Divorced| 63578.000|         681|  26888.000|    Business|         Employed|             12|           Fair|               0.102|   49558.000|         2|North Shannonmouth|   IA|           Venezuela|                4|        Low|\n",
      "+---+----------+-------------+--------------+----------+------------+-----------+------------+-----------------+---------------+---------------+--------------------+------------+----------+------------------+-----+--------------------+-----------------+-----------+\n",
      "only showing top 9 rows\n",
      "\n"
     ]
    }
   ],
   "source": [
    "df_parquet_file.show(9)"
   ]
  },
  {
   "cell_type": "code",
   "execution_count": 51,
   "id": "2fa2d59e-bf80-41f4-91f4-27bd576e7b59",
   "metadata": {},
   "outputs": [],
   "source": [
    "hadoop_conf = spark._jsc.hadoopConfiguration()\n",
    "hadoop_conf.set(\"fs.s3a.impl\", \"org.apache.hadoop.fs.s3a.S3AFileSystem\")\n",
    "hadoop_conf.set(\"fs.s3a.aws.credentials.provider\", \"com.amazonaws.auth.profile.ProfileCredentialsProvider\")\n",
    "hadoop_conf.set(\"fs.s3a.profile\", \"default\")\n",
    "\n",
    "df_final.write.mode(\"overwrite\").parquet(\"s3a://testing-purpose-for-projects/sample/\")"
   ]
  },
  {
   "cell_type": "code",
   "execution_count": 52,
   "id": "2e2204bc-2a57-4050-87d7-7fe6589762c3",
   "metadata": {},
   "outputs": [
    {
     "name": "stdout",
     "output_type": "stream",
     "text": [
      "+---+----------+-------------+--------------+----------+------------+-----------+------------+-----------------+---------------+---------------+--------------------+------------+----------+------------------+-----+--------------------+-----------------+-----------+\n",
      "| id|    Gender|Qualification|Marital_status|    Income|Credit_score|Loan_Amount|Loan_Purpose|Employment_Status|Current_Job_YOE|Payment_History|Debt_to_Income_Ratio|Assets_Value|Dependents|              City|State|             Country|Previous_Defaults|Risk_Rating|\n",
      "+---+----------+-------------+--------------+----------+------------+-----------+------------+-----------------+---------------+---------------+--------------------+------------+----------+------------------+-----+--------------------+-----------------+-----------+\n",
      "|  2|    Female|           PG|       Widowed|102628.000|         654|  25442.000|        Home|       Unemployed|              8|           Poor|               0.162|       0.000|         3|      West Patrick|   IA|              Taiwan|                1|     Medium|\n",
      "|  5|Non-binary|          PhD|      Divorced|107329.000|         735|  22694.000|        Home|    Self-employed|              1|           Poor|               0.233|   71327.000|         4|      East Michael|   MP|Netherlands Antilles|                0|        Low|\n",
      "|  7|Non-binary|           HS|      Divorced| 27313.000|         786|  24399.000|        Auto|    Self-employed|             10|      Excellent|               0.151|  284643.000|         4|       Traceyshire|   FL|     North Macedonia|                0|        Low|\n",
      "|  8|Non-binary|           HS|       Widowed| 99671.000|         669|  30460.000|    Personal|       Unemployed|             18|           Poor|               0.434|   25531.000|         1| Jacquelineborough|   MP|              Greece|                1|     Medium|\n",
      "|  9|Non-binary|           PG|       Widowed| 71500.000|         734|  44400.000|    Personal|    Self-employed|             14|      Excellent|               0.248|  127985.000|         4|        Dustinbury|   CT|              Malawi|                0|        Low|\n",
      "| 10|      Male|           PG|       Widowed| 84162.000|         606|   5015.000|    Business|    Self-employed|             17|           Poor|               0.389|  275773.000|         1|       Amandamouth|   KS|            Cambodia|                1|        Low|\n",
      "| 12|      Male|          PhD|       Married| 80378.000|         639|  31920.000|    Business|         Employed|             11|           Good|               0.125|  214743.000|         3|    South Amymouth|   IA|               Macao|                3|     Medium|\n",
      "| 15|Non-binary|          PhD|       Married|108644.000|         766|  45358.000|        Auto|    Self-employed|             15|           Poor|               0.488|       0.000|         0|     North Francis|   IN|               Korea|                1|        Low|\n",
      "| 16|      Male|           UG|      Divorced| 63578.000|         681|  26888.000|    Business|         Employed|             12|           Fair|               0.102|   49558.000|         2|North Shannonmouth|   IA|           Venezuela|                4|        Low|\n",
      "+---+----------+-------------+--------------+----------+------------+-----------+------------+-----------------+---------------+---------------+--------------------+------------+----------+------------------+-----+--------------------+-----------------+-----------+\n",
      "only showing top 9 rows\n",
      "\n"
     ]
    }
   ],
   "source": [
    "df = spark.read.parquet(\"s3a://testing-purpose-for-projects/sample/\")\n",
    "df.show(9)"
   ]
  },
  {
   "cell_type": "code",
   "execution_count": 45,
   "id": "bfde36e8-32e5-459f-b56c-db9587c84634",
   "metadata": {},
   "outputs": [
    {
     "name": "stdout",
     "output_type": "stream",
     "text": [
      "<py4j.java_gateway.JavaClass object at 0x7f33bd271e90>\n"
     ]
    }
   ],
   "source": [
    "print(spark._jvm.org.apache.hadoop.fs.s3a.S3AFileSystem)\n"
   ]
  },
  {
   "cell_type": "code",
   "execution_count": 46,
   "id": "39b4a9db-6923-4ea3-a9b4-b68d2c865fd5",
   "metadata": {},
   "outputs": [
    {
     "name": "stdout",
     "output_type": "stream",
     "text": [
      "/usr/local/spark/conf/:/usr/local/spark/jars/ivy-2.5.1.jar:/usr/local/spark/jars/hadoop-yarn-server-web-proxy-3.3.4.jar:/usr/local/spark/jars/jakarta.validation-api-2.0.2.jar:/usr/local/spark/jars/arrow-vector-12.0.1.jar:/usr/local/spark/jars/spire_2.12-0.17.0.jar:/usr/local/spark/jars/leveldbjni-all-1.8.jar:/usr/local/spark/jars/shims-0.9.45.jar:/usr/local/spark/jars/log4j-core-2.20.0.jar:/usr/local/spark/jars/bonecp-0.8.0.RELEASE.jar:/usr/local/spark/jars/metrics-jvm-4.2.19.jar:/usr/local/spark/jars/kubernetes-model-rbac-6.7.2.jar:/usr/local/spark/jars/spark-mllib_2.12-3.5.0.jar:/usr/local/spark/jars/netty-resolver-4.1.96.Final.jar:/usr/local/spark/jars/spark-graphx_2.12-3.5.0.jar:/usr/local/spark/jars/flatbuffers-java-1.12.0.jar:/usr/local/spark/jars/commons-collections4-4.4.jar:/usr/local/spark/jars/hive-jdbc-2.3.9.jar:/usr/local/spark/jars/spark-mesos_2.12-3.5.0.jar:/usr/local/spark/jars/dropwizard-metrics-hadoop-metrics2-reporter-0.1.2.jar:/usr/local/spark/jars/paranamer-2.8.jar:/usr/local/spark/jars/json4s-core_2.12-3.7.0-M11.jar:/usr/local/spark/jars/kubernetes-client-6.7.2.jar:/usr/local/spark/jars/kubernetes-model-storageclass-6.7.2.jar:/usr/local/spark/jars/kubernetes-model-metrics-6.7.2.jar:/usr/local/spark/jars/netty-transport-native-epoll-4.1.96.Final-linux-aarch_64.jar:/usr/local/spark/jars/spark-sketch_2.12-3.5.0.jar:/usr/local/spark/jars/gson-2.2.4.jar:/usr/local/spark/jars/datanucleus-core-4.1.17.jar:/usr/local/spark/jars/netty-transport-native-kqueue-4.1.96.Final-osx-x86_64.jar:/usr/local/spark/jars/metrics-core-4.2.19.jar:/usr/local/spark/jars/hive-exec-2.3.9-core.jar:/usr/local/spark/jars/kubernetes-model-common-6.7.2.jar:/usr/local/spark/jars/hk2-utils-2.6.1.jar:/usr/local/spark/jars/commons-logging-1.1.3.jar:/usr/local/spark/jars/commons-math3-3.6.1.jar:/usr/local/spark/jars/jackson-databind-2.15.2.jar:/usr/local/spark/jars/libthrift-0.12.0.jar:/usr/local/spark/jars/hk2-api-2.6.1.jar:/usr/local/spark/jars/lz4-java-1.8.0.jar:/usr/local/spark/jars/parquet-encoding-1.13.1.jar:/usr/local/spark/jars/jackson-dataformat-yaml-2.15.2.jar:/usr/local/spark/jars/parquet-column-1.13.1.jar:/usr/local/spark/jars/aopalliance-repackaged-2.6.1.jar:/usr/local/spark/jars/zookeeper-3.6.3.jar:/usr/local/spark/jars/minlog-1.3.0.jar:/usr/local/spark/jars/spark-sql_2.12-3.5.0.jar:/usr/local/spark/jars/jakarta.xml.bind-api-2.3.2.jar:/usr/local/spark/jars/kubernetes-model-gatewayapi-6.7.2.jar:/usr/local/spark/jars/hive-llap-common-2.3.9.jar:/usr/local/spark/jars/activation-1.1.1.jar:/usr/local/spark/jars/commons-lang-2.6.jar:/usr/local/spark/jars/jersey-common-2.40.jar:/usr/local/spark/jars/log4j-api-2.20.0.jar:/usr/local/spark/jars/curator-client-2.13.0.jar:/usr/local/spark/jars/jakarta.ws.rs-api-2.1.6.jar:/usr/local/spark/jars/RoaringBitmap-0.9.45.jar:/usr/local/spark/jars/pickle-1.3.jar:/usr/local/spark/jars/kubernetes-model-batch-6.7.2.jar:/usr/local/spark/jars/oro-2.0.8.jar:/usr/local/spark/jars/netty-transport-classes-epoll-4.1.96.Final.jar:/usr/local/spark/jars/httpclient-4.5.14.jar:/usr/local/spark/jars/commons-pool-1.5.4.jar:/usr/local/spark/jars/stax-api-1.0.1.jar:/usr/local/spark/jars/jakarta.servlet-api-4.0.3.jar:/usr/local/spark/jars/netty-transport-4.1.96.Final.jar:/usr/local/spark/jars/hive-storage-api-2.8.1.jar:/usr/local/spark/jars/xbean-asm9-shaded-4.23.jar:/usr/local/spark/jars/breeze-macros_2.12-2.1.0.jar:/usr/local/spark/jars/kubernetes-model-admissionregistration-6.7.2.jar:/usr/local/spark/jars/jersey-server-2.40.jar:/usr/local/spark/jars/commons-compress-1.23.0.jar:/usr/local/spark/jars/hive-common-2.3.9.jar:/usr/local/spark/jars/parquet-format-structures-1.13.1.jar:/usr/local/spark/jars/jpam-1.1.jar:/usr/local/spark/jars/jackson-module-scala_2.12-2.15.2.jar:/usr/local/spark/jars/jul-to-slf4j-2.0.7.jar:/usr/local/spark/jars/kubernetes-model-certificates-6.7.2.jar:/usr/local/spark/jars/commons-lang3-3.12.0.jar:/usr/local/spark/jars/transaction-api-1.1.jar:/usr/local/spark/jars/spark-network-common_2.12-3.5.0.jar:/usr/local/spark/jars/lapack-3.0.3.jar:/usr/local/spark/jars/jaxb-runtime-2.3.2.jar:/usr/local/spark/jars/scala-parser-combinators_2.12-2.3.0.jar:/usr/local/spark/jars/hive-beeline-2.3.9.jar:/usr/local/spark/jars/netty-transport-native-kqueue-4.1.96.Final-osx-aarch_64.jar:/usr/local/spark/jars/spark-sql-api_2.12-3.5.0.jar:/usr/local/spark/jars/chill_2.12-0.10.0.jar:/usr/local/spark/jars/okhttp-3.12.12.jar:/usr/local/spark/jars/jline-2.14.6.jar:/usr/local/spark/jars/kubernetes-model-resource-6.7.2.jar:/usr/local/spark/jars/jackson-annotations-2.15.2.jar:/usr/local/spark/jars/kubernetes-model-core-6.7.2.jar:/usr/local/spark/jars/zjsonpatch-0.3.0.jar:/usr/local/spark/jars/xz-1.9.jar:/usr/local/spark/jars/blas-3.0.3.jar:/usr/local/spark/jars/metrics-json-4.2.19.jar:/usr/local/spark/jars/hive-shims-common-2.3.9.jar:/usr/local/spark/jars/spark-mllib-local_2.12-3.5.0.jar:/usr/local/spark/jars/datanucleus-api-jdo-4.2.4.jar:/usr/local/spark/jars/arpack_combined_all-0.1.jar:/usr/local/spark/jars/guava-14.0.1.jar:/usr/local/spark/jars/commons-crypto-1.1.0.jar:/usr/local/spark/jars/kubernetes-model-events-6.7.2.jar:/usr/local/spark/jars/parquet-hadoop-1.13.1.jar:/usr/local/spark/jars/logging-interceptor-3.12.12.jar:/usr/local/spark/jars/metrics-jmx-4.2.19.jar:/usr/local/spark/jars/antlr-runtime-3.5.2.jar:/usr/local/spark/jars/HikariCP-2.5.1.jar:/usr/local/spark/jars/zstd-jni-1.5.5-4.jar:/usr/local/spark/jars/curator-framework-2.13.0.jar:/usr/local/spark/jars/zookeeper-jute-3.6.3.jar:/usr/local/spark/jars/hk2-locator-2.6.1.jar:/usr/local/spark/jars/hadoop-client-runtime-3.3.4.jar:/usr/local/spark/jars/aircompressor-0.25.jar:/usr/local/spark/jars/hive-shims-0.23-2.3.9.jar:/usr/local/spark/jars/orc-core-1.9.1-shaded-protobuf.jar:/usr/local/spark/jars/netty-codec-http-4.1.96.Final.jar:/usr/local/spark/jars/parquet-jackson-1.13.1.jar:/usr/local/spark/jars/py4j-0.10.9.7.jar:/usr/local/spark/jars/hive-shims-scheduler-2.3.9.jar:/usr/local/spark/jars/avro-ipc-1.11.2.jar:/usr/local/spark/jars/datanucleus-rdbms-4.1.19.jar:/usr/local/spark/jars/jackson-core-2.15.2.jar:/usr/local/spark/jars/curator-recipes-2.13.0.jar:/usr/local/spark/jars/audience-annotations-0.5.0.jar:/usr/local/spark/jars/commons-codec-1.16.0.jar:/usr/local/spark/jars/scala-library-2.12.18.jar:/usr/local/spark/jars/metrics-graphite-4.2.19.jar:/usr/local/spark/jars/netty-codec-4.1.96.Final.jar:/usr/local/spark/jars/spark-network-shuffle_2.12-3.5.0.jar:/usr/local/spark/jars/commons-io-2.13.0.jar:/usr/local/spark/jars/netty-codec-socks-4.1.96.Final.jar:/usr/local/spark/jars/spark-hive-thriftserver_2.12-3.5.0.jar:/usr/local/spark/jars/kubernetes-model-policy-6.7.2.jar:/usr/local/spark/jars/netty-handler-proxy-4.1.96.Final.jar:/usr/local/spark/jars/istack-commons-runtime-3.0.8.jar:/usr/local/spark/jars/kubernetes-model-scheduling-6.7.2.jar:/usr/local/spark/jars/spire-util_2.12-0.17.0.jar:/usr/local/spark/jars/libfb303-0.9.3.jar:/usr/local/spark/jars/spire-macros_2.12-0.17.0.jar:/usr/local/spark/jars/kubernetes-model-coordination-6.7.2.jar:/usr/local/spark/jars/scala-compiler-2.12.18.jar:/usr/local/spark/jars/mesos-1.4.3-shaded-protobuf.jar:/usr/local/spark/jars/json4s-jackson_2.12-3.7.0-M11.jar:/usr/local/spark/jars/httpcore-4.4.16.jar:/usr/local/spark/jars/parquet-common-1.13.1.jar:/usr/local/spark/jars/spark-kubernetes_2.12-3.5.0.jar:/usr/local/spark/jars/osgi-resource-locator-1.0.3.jar:/usr/local/spark/jars/snakeyaml-engine-2.6.jar:/usr/local/spark/jars/tink-1.9.0.jar:/usr/local/spark/jars/okio-1.15.0.jar:/usr/local/spark/jars/spark-core_2.12-3.5.0.jar:/usr/local/spark/jars/compress-lzf-1.1.2.jar:/usr/local/spark/jars/opencsv-2.3.jar:/usr/local/spark/jars/javassist-3.29.2-GA.jar:/usr/local/spark/jars/kubernetes-model-node-6.7.2.jar:/usr/local/spark/jars/orc-shims-1.9.1.jar:/usr/local/spark/jars/spark-repl_2.12-3.5.0.jar:/usr/local/spark/jars/derby-10.14.2.0.jar:/usr/local/spark/jars/commons-cli-1.5.0.jar:/usr/local/spark/jars/spark-launcher_2.12-3.5.0.jar:/usr/local/spark/jars/jersey-container-servlet-2.40.jar:/usr/local/spark/jars/spire-platform_2.12-0.17.0.jar:/usr/local/spark/jars/netty-buffer-4.1.96.Final.jar:/usr/local/spark/jars/netty-codec-http2-4.1.96.Final.jar:/usr/local/spark/jars/spark-catalyst_2.12-3.5.0.jar:/usr/local/spark/jars/spark-hive_2.12-3.5.0.jar:/usr/local/spark/jars/jersey-container-servlet-core-2.40.jar:/usr/local/spark/jars/netty-transport-native-epoll-4.1.96.Final-linux-x86_64.jar:/usr/local/spark/jars/ST4-4.0.4.jar:/usr/local/spark/jars/JTransforms-3.1.jar:/usr/local/spark/jars/kubernetes-model-flowcontrol-6.7.2.jar:/usr/local/spark/jars/spark-tags_2.12-3.5.0.jar:/usr/local/spark/jars/jsr305-3.0.0.jar:/usr/local/spark/jars/netty-all-4.1.96.Final.jar:/usr/local/spark/jars/javolution-5.5.1.jar:/usr/local/spark/jars/scala-reflect-2.12.18.jar:/usr/local/spark/jars/commons-collections-3.2.2.jar:/usr/local/spark/jars/hive-serde-2.3.9.jar:/usr/local/spark/jars/antlr4-runtime-4.9.3.jar:/usr/local/spark/jars/hadoop-client-api-3.3.4.jar:/usr/local/spark/jars/annotations-17.0.0.jar:/usr/local/spark/jars/commons-compiler-3.1.9.jar:/usr/local/spark/jars/netty-handler-4.1.96.Final.jar:/usr/local/spark/jars/kubernetes-client-api-6.7.2.jar:/usr/local/spark/jars/jakarta.annotation-api-1.3.5.jar:/usr/local/spark/jars/kubernetes-model-autoscaling-6.7.2.jar:/usr/local/spark/jars/spark-unsafe_2.12-3.5.0.jar:/usr/local/spark/jars/arpack-3.0.3.jar:/usr/local/spark/jars/cats-kernel_2.12-2.1.1.jar:/usr/local/spark/jars/joda-time-2.12.5.jar:/usr/local/spark/jars/univocity-parsers-2.9.1.jar:/usr/local/spark/jars/arrow-memory-netty-12.0.1.jar:/usr/local/spark/jars/jdo-api-3.0.1.jar:/usr/local/spark/jars/hadoop-shaded-guava-1.1.1.jar:/usr/local/spark/jars/chill-java-0.10.0.jar:/usr/local/spark/jars/kubernetes-model-apps-6.7.2.jar:/usr/local/spark/jars/avro-1.11.2.jar:/usr/local/spark/jars/kubernetes-httpclient-okhttp-6.7.2.jar:/usr/local/spark/jars/stream-2.9.6.jar:/usr/local/spark/jars/JLargeArrays-1.5.jar:/usr/local/spark/jars/commons-text-1.10.0.jar:/usr/local/spark/jars/kubernetes-model-extensions-6.7.2.jar:/usr/local/spark/jars/json4s-scalap_2.12-3.7.0-M11.jar:/usr/local/spark/jars/hive-metastore-2.3.9.jar:/usr/local/spark/jars/commons-dbcp-1.4.jar:/usr/local/spark/jars/jersey-hk2-2.40.jar:/usr/local/spark/jars/arrow-memory-core-12.0.1.jar:/usr/local/spark/jars/datasketches-memory-2.1.0.jar:/usr/local/spark/jars/rocksdbjni-8.3.2.jar:/usr/local/spark/jars/kubernetes-model-discovery-6.7.2.jar:/usr/local/spark/jars/snappy-java-1.1.10.3.jar:/usr/local/spark/jars/log4j-slf4j2-impl-2.20.0.jar:/usr/local/spark/jars/netty-transport-classes-kqueue-4.1.96.Final.jar:/usr/local/spark/jars/jersey-client-2.40.jar:/usr/local/spark/jars/avro-mapred-1.11.2.jar:/usr/local/spark/jars/kubernetes-model-apiextensions-6.7.2.jar:/usr/local/spark/jars/snakeyaml-2.0.jar:/usr/local/spark/jars/netty-common-4.1.96.Final.jar:/usr/local/spark/jars/scala-collection-compat_2.12-2.7.0.jar:/usr/local/spark/jars/jodd-core-3.5.2.jar:/usr/local/spark/jars/datasketches-java-3.3.0.jar:/usr/local/spark/jars/json4s-ast_2.12-3.7.0-M11.jar:/usr/local/spark/jars/orc-mapreduce-1.9.1-shaded-protobuf.jar:/usr/local/spark/jars/scala-xml_2.12-2.1.0.jar:/usr/local/spark/jars/threeten-extra-1.7.1.jar:/usr/local/spark/jars/jakarta.inject-2.6.1.jar:/usr/local/spark/jars/arrow-format-12.0.1.jar:/usr/local/spark/jars/jackson-core-asl-1.9.13.jar:/usr/local/spark/jars/log4j-1.2-api-2.20.0.jar:/usr/local/spark/jars/hive-cli-2.3.9.jar:/usr/local/spark/jars/jackson-datatype-jsr310-2.15.2.jar:/usr/local/spark/jars/objenesis-3.3.jar:/usr/local/spark/jars/spark-yarn_2.12-3.5.0.jar:/usr/local/spark/jars/algebra_2.12-2.0.1.jar:/usr/local/spark/jars/hive-service-rpc-3.1.3.jar:/usr/local/spark/jars/jta-1.1.jar:/usr/local/spark/jars/super-csv-2.2.0.jar:/usr/local/spark/jars/jcl-over-slf4j-2.0.7.jar:/usr/local/spark/jars/slf4j-api-2.0.7.jar:/usr/local/spark/jars/kubernetes-model-networking-6.7.2.jar:/usr/local/spark/jars/breeze_2.12-2.1.0.jar:/usr/local/spark/jars/netty-transport-native-unix-common-4.1.96.Final.jar:/usr/local/spark/jars/kryo-shaded-4.0.2.jar:/usr/local/spark/jars/json-1.8.jar:/usr/local/spark/jars/spark-streaming_2.12-3.5.0.jar:/usr/local/spark/jars/spark-kvstore_2.12-3.5.0.jar:/usr/local/spark/jars/spark-common-utils_2.12-3.5.0.jar:/usr/local/spark/jars/hive-shims-2.3.9.jar:/usr/local/spark/jars/javax.jdo-3.2.0-m3.jar:/usr/local/spark/jars/janino-3.1.9.jar:/usr/local/spark/jars/jackson-mapper-asl-1.9.13.jar:/usr/local/spark/jars/aws-java-sdk-bundle-1.12.539.jar:/usr/local/spark/jars/hadoop-aws-3.3.4.jar\n"
     ]
    }
   ],
   "source": [
    "print(spark.sparkContext._jvm.java.lang.System.getProperty(\"java.class.path\"))\n"
   ]
  },
  {
   "cell_type": "code",
   "execution_count": null,
   "id": "1c2be466-b03a-464d-ad95-9df0b9c4fb74",
   "metadata": {},
   "outputs": [],
   "source": []
  }
 ],
 "metadata": {
  "kernelspec": {
   "display_name": "Python 3 (ipykernel)",
   "language": "python",
   "name": "python3"
  },
  "language_info": {
   "codemirror_mode": {
    "name": "ipython",
    "version": 3
   },
   "file_extension": ".py",
   "mimetype": "text/x-python",
   "name": "python",
   "nbconvert_exporter": "python",
   "pygments_lexer": "ipython3",
   "version": "3.11.6"
  }
 },
 "nbformat": 4,
 "nbformat_minor": 5
}
